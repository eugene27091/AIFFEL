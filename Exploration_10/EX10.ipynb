{
 "cells": [
  {
   "cell_type": "markdown",
   "id": "provincial-smile",
   "metadata": {},
   "source": [
    "# Exploration 10 : 뉴스 요약봇 만들기"
   ]
  },
  {
   "cell_type": "markdown",
   "id": "beneficial-neutral",
   "metadata": {},
   "source": [
    " seq2seq 모델을 통해서 Abstractive summarization 방식의 텍스트 요약기를 만들었습니다.seq2seq은 두 개의 RNN 아키텍처를 사용하여 입력 시퀀스로부터 출력 시퀀스를 생성해내는 자연어 생성 모델입니다. "
   ]
  },
  {
   "cell_type": "code",
   "execution_count": 36,
   "id": "human-chart",
   "metadata": {},
   "outputs": [
    {
     "name": "stderr",
     "output_type": "stream",
     "text": [
      "[nltk_data] Downloading package stopwords to /aiffel/nltk_data...\n",
      "[nltk_data]   Package stopwords is already up-to-date!\n"
     ]
    }
   ],
   "source": [
    "import nltk\n",
    "nltk.download('stopwords')\n",
    "\n",
    "import numpy as np\n",
    "import pandas as pd\n",
    "import os\n",
    "import re\n",
    "import matplotlib.pyplot as plt\n",
    "from nltk.corpus import stopwords\n",
    "from bs4 import BeautifulSoup \n",
    "from tensorflow.keras.preprocessing.text import Tokenizer \n",
    "from tensorflow.keras.preprocessing.sequence import pad_sequences\n",
    "import urllib.request"
   ]
  },
  {
   "cell_type": "markdown",
   "id": "individual-mambo",
   "metadata": {},
   "source": [
    "## Step 1. 데이터 수집하기"
   ]
  },
  {
   "cell_type": "code",
   "execution_count": 37,
   "id": "defined-blood",
   "metadata": {},
   "outputs": [],
   "source": [
    "import urllib.request\n",
    "urllib.request.urlretrieve(\"https://raw.githubusercontent.com/sunnysai12345/News_Summary/master/news_summary_more.csv\", filename=\"news_summary_more.csv\")\n",
    "data = pd.read_csv('news_summary_more.csv', encoding='iso-8859-1')"
   ]
  },
  {
   "cell_type": "code",
   "execution_count": 38,
   "id": "heard-qatar",
   "metadata": {},
   "outputs": [
    {
     "data": {
      "text/html": [
       "<div>\n",
       "<style scoped>\n",
       "    .dataframe tbody tr th:only-of-type {\n",
       "        vertical-align: middle;\n",
       "    }\n",
       "\n",
       "    .dataframe tbody tr th {\n",
       "        vertical-align: top;\n",
       "    }\n",
       "\n",
       "    .dataframe thead th {\n",
       "        text-align: right;\n",
       "    }\n",
       "</style>\n",
       "<table border=\"1\" class=\"dataframe\">\n",
       "  <thead>\n",
       "    <tr style=\"text-align: right;\">\n",
       "      <th></th>\n",
       "      <th>headlines</th>\n",
       "      <th>text</th>\n",
       "    </tr>\n",
       "  </thead>\n",
       "  <tbody>\n",
       "    <tr>\n",
       "      <th>8557</th>\n",
       "      <td>I don't think Hulk Hogan will ever retire: Hog...</td>\n",
       "      <td>After reports claimed that Hulk Hogan will mak...</td>\n",
       "    </tr>\n",
       "    <tr>\n",
       "      <th>56059</th>\n",
       "      <td>300 passengers fall sick on Royal Caribbean Cr...</td>\n",
       "      <td>As many as 332 passengers on board a Royal Car...</td>\n",
       "    </tr>\n",
       "    <tr>\n",
       "      <th>52008</th>\n",
       "      <td>Maha to offer benefits to firms to set up Metr...</td>\n",
       "      <td>Maharashtra CM Devendra Fadnavis has directed ...</td>\n",
       "    </tr>\n",
       "    <tr>\n",
       "      <th>43210</th>\n",
       "      <td>Sachin, Dravid got out stumped just once in Te...</td>\n",
       "      <td>Cricket legends Sachin Tendulkar and Rahul Dra...</td>\n",
       "    </tr>\n",
       "    <tr>\n",
       "      <th>48417</th>\n",
       "      <td>SA call up Indian spinner at nets to tackle Ku...</td>\n",
       "      <td>South Africa called up an Indian spinner named...</td>\n",
       "    </tr>\n",
       "    <tr>\n",
       "      <th>26945</th>\n",
       "      <td>Tourist jailed for 8yrs for calling Egypt 'son...</td>\n",
       "      <td>A Lebanese tourist has been sentenced to eight...</td>\n",
       "    </tr>\n",
       "    <tr>\n",
       "      <th>64790</th>\n",
       "      <td>Perhaps Rahul plans to win polls in Russia, In...</td>\n",
       "      <td>Mocking Congress Vice President Rahul Gandhi, ...</td>\n",
       "    </tr>\n",
       "    <tr>\n",
       "      <th>26946</th>\n",
       "      <td>Rescue of 1st group of boys inside Thai cave t...</td>\n",
       "      <td>Thai authorities have said it would take nearl...</td>\n",
       "    </tr>\n",
       "    <tr>\n",
       "      <th>98263</th>\n",
       "      <td>Girl posts makeup tutorial done on roof of mov...</td>\n",
       "      <td>Anne Custodio from the Philippines posts video...</td>\n",
       "    </tr>\n",
       "    <tr>\n",
       "      <th>3163</th>\n",
       "      <td>Attempts being made to disturb Naseeruddin Sha...</td>\n",
       "      <td>Nobel laureate Amartya Sen on Sunday came out ...</td>\n",
       "    </tr>\n",
       "  </tbody>\n",
       "</table>\n",
       "</div>"
      ],
      "text/plain": [
       "                                               headlines  \\\n",
       "8557   I don't think Hulk Hogan will ever retire: Hog...   \n",
       "56059  300 passengers fall sick on Royal Caribbean Cr...   \n",
       "52008  Maha to offer benefits to firms to set up Metr...   \n",
       "43210  Sachin, Dravid got out stumped just once in Te...   \n",
       "48417  SA call up Indian spinner at nets to tackle Ku...   \n",
       "26945  Tourist jailed for 8yrs for calling Egypt 'son...   \n",
       "64790  Perhaps Rahul plans to win polls in Russia, In...   \n",
       "26946  Rescue of 1st group of boys inside Thai cave t...   \n",
       "98263  Girl posts makeup tutorial done on roof of mov...   \n",
       "3163   Attempts being made to disturb Naseeruddin Sha...   \n",
       "\n",
       "                                                    text  \n",
       "8557   After reports claimed that Hulk Hogan will mak...  \n",
       "56059  As many as 332 passengers on board a Royal Car...  \n",
       "52008  Maharashtra CM Devendra Fadnavis has directed ...  \n",
       "43210  Cricket legends Sachin Tendulkar and Rahul Dra...  \n",
       "48417  South Africa called up an Indian spinner named...  \n",
       "26945  A Lebanese tourist has been sentenced to eight...  \n",
       "64790  Mocking Congress Vice President Rahul Gandhi, ...  \n",
       "26946  Thai authorities have said it would take nearl...  \n",
       "98263  Anne Custodio from the Philippines posts video...  \n",
       "3163   Nobel laureate Amartya Sen on Sunday came out ...  "
      ]
     },
     "execution_count": 38,
     "metadata": {},
     "output_type": "execute_result"
    }
   ],
   "source": [
    "data.sample(10)"
   ]
  },
  {
   "cell_type": "markdown",
   "id": "invalid-pontiac",
   "metadata": {},
   "source": [
    "## Step 2. 데이터 전처리하기"
   ]
  },
  {
   "cell_type": "code",
   "execution_count": 39,
   "id": "concerned-egyptian",
   "metadata": {},
   "outputs": [
    {
     "name": "stdout",
     "output_type": "stream",
     "text": [
      "headlines 열에서 중복을 배제한 유일한 샘플의 수 : 98280\n",
      "text 열에서 중복을 배제한 유일한 샘플의 수 : 98360\n"
     ]
    }
   ],
   "source": [
    "# 중복 데이터 제거\n",
    "\n",
    "print('headlines 열에서 중복을 배제한 유일한 샘플의 수 :', data['headlines'].nunique())\n",
    "print('text 열에서 중복을 배제한 유일한 샘플의 수 :', data['text'].nunique())"
   ]
  },
  {
   "cell_type": "code",
   "execution_count": 40,
   "id": "involved-cradle",
   "metadata": {},
   "outputs": [
    {
     "name": "stdout",
     "output_type": "stream",
     "text": [
      "전체 샘플수 : 98360\n"
     ]
    }
   ],
   "source": [
    "# 널 값 제거\n",
    "\n",
    "data.drop_duplicates(subset = ['text'], inplace=True)\n",
    "print('전체 샘플수 :', (len(data)))"
   ]
  },
  {
   "cell_type": "code",
   "execution_count": 41,
   "id": "champion-developer",
   "metadata": {},
   "outputs": [
    {
     "name": "stdout",
     "output_type": "stream",
     "text": [
      "headlines    0\n",
      "text         0\n",
      "dtype: int64\n"
     ]
    }
   ],
   "source": [
    "# 널 값 제거 확인\n",
    "\n",
    "print(data.isnull().sum())"
   ]
  },
  {
   "cell_type": "code",
   "execution_count": 42,
   "id": "bound-composer",
   "metadata": {},
   "outputs": [
    {
     "name": "stdout",
     "output_type": "stream",
     "text": [
      "정규화 사전의 수:  120\n"
     ]
    }
   ],
   "source": [
    "# 불용어 처리\n",
    "\n",
    "contractions = {\"ain't\": \"is not\", \"aren't\": \"are not\",\"can't\": \"cannot\", \"'cause\": \"because\", \"could've\": \"could have\", \"couldn't\": \"could not\",\n",
    "                           \"didn't\": \"did not\",  \"doesn't\": \"does not\", \"don't\": \"do not\", \"hadn't\": \"had not\", \"hasn't\": \"has not\", \"haven't\": \"have not\",\n",
    "                           \"he'd\": \"he would\",\"he'll\": \"he will\", \"he's\": \"he is\", \"how'd\": \"how did\", \"how'd'y\": \"how do you\", \"how'll\": \"how will\", \"how's\": \"how is\",\n",
    "                           \"I'd\": \"I would\", \"I'd've\": \"I would have\", \"I'll\": \"I will\", \"I'll've\": \"I will have\",\"I'm\": \"I am\", \"I've\": \"I have\", \"i'd\": \"i would\",\n",
    "                           \"i'd've\": \"i would have\", \"i'll\": \"i will\",  \"i'll've\": \"i will have\",\"i'm\": \"i am\", \"i've\": \"i have\", \"isn't\": \"is not\", \"it'd\": \"it would\",\n",
    "                           \"it'd've\": \"it would have\", \"it'll\": \"it will\", \"it'll've\": \"it will have\",\"it's\": \"it is\", \"let's\": \"let us\", \"ma'am\": \"madam\",\n",
    "                           \"mayn't\": \"may not\", \"might've\": \"might have\",\"mightn't\": \"might not\",\"mightn't've\": \"might not have\", \"must've\": \"must have\",\n",
    "                           \"mustn't\": \"must not\", \"mustn't've\": \"must not have\", \"needn't\": \"need not\", \"needn't've\": \"need not have\",\"o'clock\": \"of the clock\",\n",
    "                           \"oughtn't\": \"ought not\", \"oughtn't've\": \"ought not have\", \"shan't\": \"shall not\", \"sha'n't\": \"shall not\", \"shan't've\": \"shall not have\",\n",
    "                           \"she'd\": \"she would\", \"she'd've\": \"she would have\", \"she'll\": \"she will\", \"she'll've\": \"she will have\", \"she's\": \"she is\",\n",
    "                           \"should've\": \"should have\", \"shouldn't\": \"should not\", \"shouldn't've\": \"should not have\", \"so've\": \"so have\",\"so's\": \"so as\",\n",
    "                           \"this's\": \"this is\",\"that'd\": \"that would\", \"that'd've\": \"that would have\", \"that's\": \"that is\", \"there'd\": \"there would\",\n",
    "                           \"there'd've\": \"there would have\", \"there's\": \"there is\", \"here's\": \"here is\",\"they'd\": \"they would\", \"they'd've\": \"they would have\",\n",
    "                           \"they'll\": \"they will\", \"they'll've\": \"they will have\", \"they're\": \"they are\", \"they've\": \"they have\", \"to've\": \"to have\",\n",
    "                           \"wasn't\": \"was not\", \"we'd\": \"we would\", \"we'd've\": \"we would have\", \"we'll\": \"we will\", \"we'll've\": \"we will have\", \"we're\": \"we are\",\n",
    "                           \"we've\": \"we have\", \"weren't\": \"were not\", \"what'll\": \"what will\", \"what'll've\": \"what will have\", \"what're\": \"what are\",\n",
    "                           \"what's\": \"what is\", \"what've\": \"what have\", \"when's\": \"when is\", \"when've\": \"when have\", \"where'd\": \"where did\", \"where's\": \"where is\",\n",
    "                           \"where've\": \"where have\", \"who'll\": \"who will\", \"who'll've\": \"who will have\", \"who's\": \"who is\", \"who've\": \"who have\",\n",
    "                           \"why's\": \"why is\", \"why've\": \"why have\", \"will've\": \"will have\", \"won't\": \"will not\", \"won't've\": \"will not have\",\n",
    "                           \"would've\": \"would have\", \"wouldn't\": \"would not\", \"wouldn't've\": \"would not have\", \"y'all\": \"you all\",\n",
    "                           \"y'all'd\": \"you all would\",\"y'all'd've\": \"you all would have\",\"y'all're\": \"you all are\",\"y'all've\": \"you all have\",\n",
    "                           \"you'd\": \"you would\", \"you'd've\": \"you would have\", \"you'll\": \"you will\", \"you'll've\": \"you will have\",\n",
    "                           \"you're\": \"you are\", \"you've\": \"you have\"}\n",
    "\n",
    "print(\"정규화 사전의 수: \", len(contractions))"
   ]
  },
  {
   "cell_type": "code",
   "execution_count": 43,
   "id": "impressed-filing",
   "metadata": {},
   "outputs": [
    {
     "name": "stdout",
     "output_type": "stream",
     "text": [
      "불용어 개수 : 179\n",
      "['i', 'me', 'my', 'myself', 'we', 'our', 'ours', 'ourselves', 'you', \"you're\", \"you've\", \"you'll\", \"you'd\", 'your', 'yours', 'yourself', 'yourselves', 'he', 'him', 'his', 'himself', 'she', \"she's\", 'her', 'hers', 'herself', 'it', \"it's\", 'its', 'itself', 'they', 'them', 'their', 'theirs', 'themselves', 'what', 'which', 'who', 'whom', 'this', 'that', \"that'll\", 'these', 'those', 'am', 'is', 'are', 'was', 'were', 'be', 'been', 'being', 'have', 'has', 'had', 'having', 'do', 'does', 'did', 'doing', 'a', 'an', 'the', 'and', 'but', 'if', 'or', 'because', 'as', 'until', 'while', 'of', 'at', 'by', 'for', 'with', 'about', 'against', 'between', 'into', 'through', 'during', 'before', 'after', 'above', 'below', 'to', 'from', 'up', 'down', 'in', 'out', 'on', 'off', 'over', 'under', 'again', 'further', 'then', 'once', 'here', 'there', 'when', 'where', 'why', 'how', 'all', 'any', 'both', 'each', 'few', 'more', 'most', 'other', 'some', 'such', 'no', 'nor', 'not', 'only', 'own', 'same', 'so', 'than', 'too', 'very', 's', 't', 'can', 'will', 'just', 'don', \"don't\", 'should', \"should've\", 'now', 'd', 'll', 'm', 'o', 're', 've', 'y', 'ain', 'aren', \"aren't\", 'couldn', \"couldn't\", 'didn', \"didn't\", 'doesn', \"doesn't\", 'hadn', \"hadn't\", 'hasn', \"hasn't\", 'haven', \"haven't\", 'isn', \"isn't\", 'ma', 'mightn', \"mightn't\", 'mustn', \"mustn't\", 'needn', \"needn't\", 'shan', \"shan't\", 'shouldn', \"shouldn't\", 'wasn', \"wasn't\", 'weren', \"weren't\", 'won', \"won't\", 'wouldn', \"wouldn't\"]\n"
     ]
    }
   ],
   "source": [
    "print('불용어 개수 :', len(stopwords.words('english') ))\n",
    "print(stopwords.words('english'))"
   ]
  },
  {
   "cell_type": "code",
   "execution_count": 44,
   "id": "restricted-moore",
   "metadata": {},
   "outputs": [],
   "source": [
    "# 불용어 제거 전처리 함수\n",
    "def preprocess_sentence(sentence, remove_stopwords=True):\n",
    "    # 텍스트 소문자화\n",
    "    sentence = sentence.lower() \n",
    "    # html 태그 제거\n",
    "    sentence = BeautifulSoup(sentence, \"lxml\").text \n",
    "    # 괄호로 닫힌 문자열 (...) 제거 Ex) my husband (and myself!) for => my husband for\n",
    "    sentence = re.sub(r'\\([^)]*\\)', '', sentence) \n",
    "    # 쌍따옴표 \" 제거\n",
    "    sentence = re.sub('\"','', sentence) \n",
    "    # 약어 정규화\n",
    "    sentence = ' '.join([contractions[t] if t in contractions else t for t in sentence.split(\" \")]) \n",
    "    # 소유격 제거. Ex) roland's -> roland\n",
    "    sentence = re.sub(r\"'s\\b\",\"\", sentence) \n",
    "    # 영어 외 문자(숫자, 특수문자 등) 공백으로 변환\n",
    "    sentence = re.sub(\"[^a-zA-Z]\", \" \", sentence)\n",
    "    # m이 3개 이상이면 2개로 변경. Ex) ummmmmmm yeah -> umm yeah\n",
    "    sentence = re.sub('[m]{2,}', 'mm', sentence) \n",
    "    \n",
    "    # 불용어 제거 (Text)\n",
    "    if remove_stopwords:\n",
    "        tokens = ' '.join(word for word in sentence.split() if not word in stopwords.words('english') if len(word) > 1)\n",
    "        \n",
    "    # 불용어 미제거 (Summary)\n",
    "    else:\n",
    "        tokens = ' '.join(word for word in sentence.split() if len(word) > 1)\n",
    "    return tokens"
   ]
  },
  {
   "cell_type": "code",
   "execution_count": 45,
   "id": "everyday-secretary",
   "metadata": {},
   "outputs": [
    {
     "name": "stdout",
     "output_type": "stream",
     "text": [
      "everything bought great infact ordered twice third ordered wasfor mother father\n",
      "great way to start the day\n"
     ]
    }
   ],
   "source": [
    "# 위의 함수 테스트해보기\n",
    "temp_text = 'Everything I bought was great, infact I ordered twice and the third ordered was<br />for my mother and father.'\n",
    "temp_summary = 'Great way to start (or finish) the day!!!'\n",
    "\n",
    "print(preprocess_sentence(temp_text))\n",
    "print(preprocess_sentence(temp_summary, False))  # False : 불용어를 제거하지 않는다."
   ]
  },
  {
   "cell_type": "code",
   "execution_count": 46,
   "id": "desirable-slovak",
   "metadata": {},
   "outputs": [
    {
     "name": "stdout",
     "output_type": "stream",
     "text": [
      "444.0351424217224  seconds\n",
      "['saurav kant alumnus upgrad iiit pg program machine learning artificial intelligence sr systems engineer infosys almost years work experience program upgrad degree career support helped transition data scientist tech mahindra salary hike upgrad online power learning powered lakh careers'\n",
      " 'kunal shah credit card bill payment platform cred gave users chance win free food swiggy one year pranav kaushik delhi techie bagged reward spending cred coins users get one cred coin per rupee bill paid used avail rewards brands like ixigo bookmyshow ubereats cult fit'\n",
      " 'new zealand defeated india wickets fourth odi hamilton thursday win first match five match odi series india lost international match rohit sharma captaincy consecutive victories dating back march match witnessed india getting seventh lowest total odi cricket history'\n",
      " ...\n",
      " 'according reports new version science fiction film matrix development michael jordan reportedly play lead role film screenwriter zak penn talks write script film reports added actor keanu reeves starred original film followed two sequels'\n",
      " 'new music video shows rapper snoop dogg aiming toy gun clown character parodying us president donald trump video also shows tv airing news conference headline ronald klump wants deport doggs airing live clown house video remixed version song lavender'\n",
      " 'madhesi morcha alliance seven political parties withdrawn support pm pushpa kamal dahal led nepal government failed meet seven day ultimatum fulfil demands including endorsement revised constitution amendment bill morcha seats parliament despite withdrawal support immediate threat government']\n",
      "13.50896668434143  seconds\n",
      "['upgrad learner switches to career in ml al with salary hike'\n",
      " 'delhi techie wins free food from swiggy for one year on cred'\n",
      " 'new zealand end rohit sharma led india match winning streak' ...\n",
      " 'the matrix film to get reboot reports'\n",
      " 'snoop dogg aims gun at clown dressed as trump in new video'\n",
      " 'madhesi morcha withdraws support to nepalese government']\n"
     ]
    }
   ],
   "source": [
    "# 불용어 제거\n",
    "\n",
    "import multiprocessing as mp   \n",
    "from multiprocessing import Pool\n",
    "import numpy as np\n",
    "import time\n",
    "from functools import partial  # map을 할 때 함수에 여러 인자를 넣어줄 수 있도록 한다\n",
    "\n",
    "start = time.time()\n",
    "\n",
    "# num_cores 만큼 쪼개진 데이터를 전처리하여 반환한다.\n",
    "def appendTexts(sentences, remove_stopwords):\n",
    "  texts = []\n",
    "  for s in sentences:\n",
    "    texts += preprocess_sentence(s, remove_stopwords),\n",
    "  return texts\n",
    "\n",
    "def preprocess_data(data, remove_stopwords=True):\n",
    "  start_time = time.time()\n",
    "  # 컴퓨터의 코어 수를 구하기\n",
    "  num_cores = mp.cpu_count()  \n",
    "\n",
    "  text_data_split = np.array_split(data, num_cores)  # 코어 수만큼 데이터를 배분하여 병렬적으로 처리할 수 있게 합니다\n",
    "  pool = Pool(num_cores)\n",
    "\n",
    "  processed_data = np.concatenate(pool.map(partial(appendTexts, remove_stopwords=remove_stopwords), text_data_split))  # 각자 작업한 데이터를 하나로 합쳐줍니다\n",
    "  pool.close()\n",
    "  pool.join()\n",
    "  print(time.time() - start_time, \" seconds\")\n",
    "  return processed_data\n",
    "\n",
    "clean_text = preprocess_data(data['text'])  # 클라우드 기준으로 3~4분 정도 소요 됩니다\n",
    "print(clean_text)\n",
    "\n",
    "clean_headlines = preprocess_data(data['headlines'], remove_stopwords=False) # 클라우드 기준 1분정도 소요됩니다.\n",
    "print(clean_headlines)"
   ]
  },
  {
   "cell_type": "code",
   "execution_count": 47,
   "id": "synthetic-producer",
   "metadata": {},
   "outputs": [],
   "source": [
    "data['text'] = clean_text\n",
    "data['headlines'] = clean_headlines\n",
    "\n",
    "# 빈 값을 Null 값으로 변환\n",
    "data.replace('', np.nan, inplace=True)"
   ]
  },
  {
   "cell_type": "code",
   "execution_count": 48,
   "id": "frequent-shadow",
   "metadata": {},
   "outputs": [
    {
     "data": {
      "text/plain": [
       "headlines    0\n",
       "text         0\n",
       "dtype: int64"
      ]
     },
     "execution_count": 48,
     "metadata": {},
     "output_type": "execute_result"
    }
   ],
   "source": [
    "# null값 확인하기\n",
    "data.isnull().sum()"
   ]
  },
  {
   "cell_type": "markdown",
   "id": "usual-lighter",
   "metadata": {},
   "source": [
    "### 훈련 데이터와 테스트 데이터 나누기"
   ]
  },
  {
   "cell_type": "code",
   "execution_count": 49,
   "id": "sized-period",
   "metadata": {},
   "outputs": [
    {
     "name": "stdout",
     "output_type": "stream",
     "text": [
      "텍스트의 최소 길이 : 1\n",
      "텍스트의 최대 길이 : 60\n",
      "텍스트의 평균 길이 : 35.09968483123221\n",
      "요약의 최소 길이 : 1\n",
      "요약의 최대 길이 : 16\n",
      "요약의 평균 길이 : 9.299532330215534\n"
     ]
    },
    {
     "data": {
      "image/png": "[encoded data removed]",
      "text/plain": [
       "<Figure size 432x288 with 2 Axes>"
      ]
     },
     "metadata": {
      "needs_background": "light"
     },
     "output_type": "display_data"
    },
    {
     "data": {
      "image/png": "[encoded data removed]",
      "text/plain": [
       "<Figure size 432x288 with 1 Axes>"
      ]
     },
     "metadata": {
      "needs_background": "light"
     },
     "output_type": "display_data"
    },
    {
     "data": {
      "image/png": "[encoded data removed]",
      "text/plain": [
       "<Figure size 432x288 with 1 Axes>"
      ]
     },
     "metadata": {
      "needs_background": "light"
     },
     "output_type": "display_data"
    }
   ],
   "source": [
    "# 길이 분포 출력\n",
    "import matplotlib.pyplot as plt\n",
    "\n",
    "text_len = [len(s.split()) for s in data['text']]\n",
    "headlines_len = [len(s.split()) for s in data['headlines']]\n",
    "\n",
    "print('텍스트의 최소 길이 : {}'.format(np.min(text_len)))\n",
    "print('텍스트의 최대 길이 : {}'.format(np.max(text_len)))\n",
    "print('텍스트의 평균 길이 : {}'.format(np.mean(text_len)))\n",
    "print('요약의 최소 길이 : {}'.format(np.min(headlines_len)))\n",
    "print('요약의 최대 길이 : {}'.format(np.max(headlines_len)))\n",
    "print('요약의 평균 길이 : {}'.format(np.mean(headlines_len)))\n",
    "\n",
    "plt.subplot(1,2,1)\n",
    "plt.boxplot(headlines_len)\n",
    "plt.title('headlines')\n",
    "plt.subplot(1,2,2)\n",
    "plt.boxplot(text_len)\n",
    "plt.title('text')\n",
    "plt.tight_layout()\n",
    "plt.show()\n",
    "\n",
    "plt.title('headlines')\n",
    "plt.hist(headlines_len, bins = 40)\n",
    "plt.xlabel('length of samples')\n",
    "plt.ylabel('number of samples')\n",
    "plt.show()\n",
    "\n",
    "plt.title('Text')\n",
    "plt.hist(text_len, bins = 40)\n",
    "plt.xlabel('length of samples')\n",
    "plt.ylabel('number of samples')\n",
    "plt.show()"
   ]
  },
  {
   "cell_type": "markdown",
   "id": "important-tourism",
   "metadata": {},
   "source": [
    "headlines은 가장 많은 샘플이 8~10 사이인 것으로 확인된다.\n",
    "text은 가장 많은 샘플이 30~40 사이인 것을 확인할 수 있다.\n",
    "그러므로 text_max_len와 headlines_max_len를 사이 값 중 임의의 숫자로 정했다."
   ]
  },
  {
   "cell_type": "code",
   "execution_count": 50,
   "id": "colonial-jamaica",
   "metadata": {},
   "outputs": [],
   "source": [
    "text_max_len = 35\n",
    "headlines_max_len = 9"
   ]
  },
  {
   "cell_type": "code",
   "execution_count": 51,
   "id": "crude-helicopter",
   "metadata": {},
   "outputs": [],
   "source": [
    "# 샘플중 길이의 비율을 알아보는 함수\n",
    "def below_threshold_len(max_len, nested_list):\n",
    "  cnt = 0\n",
    "  for s in nested_list:\n",
    "    if(len(s.split()) <= max_len):\n",
    "        cnt = cnt + 1\n",
    "  print('전체 샘플 중 길이가 %s 이하인 샘플의 비율: %s'%(max_len, (cnt / len(nested_list))))"
   ]
  },
  {
   "cell_type": "code",
   "execution_count": 52,
   "id": "breeding-spray",
   "metadata": {},
   "outputs": [
    {
     "name": "stdout",
     "output_type": "stream",
     "text": [
      "전체 샘플 중 길이가 35 이하인 샘플의 비율: 0.5412464416429443\n",
      "전체 샘플 중 길이가 9 이하인 샘플의 비율: 0.5666022773485156\n"
     ]
    }
   ],
   "source": [
    "below_threshold_len(text_max_len, data['text'])\n",
    "below_threshold_len(headlines_max_len,  data['headlines'])"
   ]
  },
  {
   "cell_type": "code",
   "execution_count": 53,
   "id": "happy-salad",
   "metadata": {},
   "outputs": [
    {
     "name": "stdout",
     "output_type": "stream",
     "text": [
      "전체 샘플수 : 29623\n"
     ]
    }
   ],
   "source": [
    "# 샘플들의 길이 중에서 max length 이하인 데이터들의 갯수를 알아보기\n",
    "data = data[data['text'].apply(lambda x: len(x.split()) <= text_max_len)]\n",
    "data = data[data['headlines'].apply(lambda x: len(x.split()) <= headlines_max_len)]\n",
    "print('전체 샘플수 :', (len(data)))"
   ]
  },
  {
   "cell_type": "code",
   "execution_count": 54,
   "id": "corresponding-somerset",
   "metadata": {},
   "outputs": [
    {
     "data": {
      "text/html": [
       "<div>\n",
       "<style scoped>\n",
       "    .dataframe tbody tr th:only-of-type {\n",
       "        vertical-align: middle;\n",
       "    }\n",
       "\n",
       "    .dataframe tbody tr th {\n",
       "        vertical-align: top;\n",
       "    }\n",
       "\n",
       "    .dataframe thead th {\n",
       "        text-align: right;\n",
       "    }\n",
       "</style>\n",
       "<table border=\"1\" class=\"dataframe\">\n",
       "  <thead>\n",
       "    <tr style=\"text-align: right;\">\n",
       "      <th></th>\n",
       "      <th>headlines</th>\n",
       "      <th>text</th>\n",
       "      <th>decoder_input</th>\n",
       "      <th>decoder_target</th>\n",
       "    </tr>\n",
       "  </thead>\n",
       "  <tbody>\n",
       "    <tr>\n",
       "      <th>3</th>\n",
       "      <td>aegon life iterm insurance plan helps customer...</td>\n",
       "      <td>aegon life iterm insurance plan customers enjo...</td>\n",
       "      <td>sostoken aegon life iterm insurance plan helps...</td>\n",
       "      <td>aegon life iterm insurance plan helps customer...</td>\n",
       "    </tr>\n",
       "    <tr>\n",
       "      <th>10</th>\n",
       "      <td>up cousins fed human excreta for friendship wi...</td>\n",
       "      <td>two minor cousins uttar pradesh gorakhpur alle...</td>\n",
       "      <td>sostoken up cousins fed human excreta for frie...</td>\n",
       "      <td>up cousins fed human excreta for friendship wi...</td>\n",
       "    </tr>\n",
       "    <tr>\n",
       "      <th>18</th>\n",
       "      <td>how long can tolerate congress leaders potshot...</td>\n",
       "      <td>days threatened step post congress mlas contin...</td>\n",
       "      <td>sostoken how long can tolerate congress leader...</td>\n",
       "      <td>how long can tolerate congress leaders potshot...</td>\n",
       "    </tr>\n",
       "    <tr>\n",
       "      <th>20</th>\n",
       "      <td>think the opposition even dreams about me pm modi</td>\n",
       "      <td>claiming dearth ideas among opposition parties...</td>\n",
       "      <td>sostoken think the opposition even dreams abou...</td>\n",
       "      <td>think the opposition even dreams about me pm m...</td>\n",
       "    </tr>\n",
       "    <tr>\n",
       "      <th>22</th>\n",
       "      <td>killed injured in saudi arabia floods</td>\n",
       "      <td>least people killed others injured saudi arabi...</td>\n",
       "      <td>sostoken killed injured in saudi arabia floods</td>\n",
       "      <td>killed injured in saudi arabia floods eostoken</td>\n",
       "    </tr>\n",
       "  </tbody>\n",
       "</table>\n",
       "</div>"
      ],
      "text/plain": [
       "                                            headlines  \\\n",
       "3   aegon life iterm insurance plan helps customer...   \n",
       "10  up cousins fed human excreta for friendship wi...   \n",
       "18  how long can tolerate congress leaders potshot...   \n",
       "20  think the opposition even dreams about me pm modi   \n",
       "22              killed injured in saudi arabia floods   \n",
       "\n",
       "                                                 text  \\\n",
       "3   aegon life iterm insurance plan customers enjo...   \n",
       "10  two minor cousins uttar pradesh gorakhpur alle...   \n",
       "18  days threatened step post congress mlas contin...   \n",
       "20  claiming dearth ideas among opposition parties...   \n",
       "22  least people killed others injured saudi arabi...   \n",
       "\n",
       "                                        decoder_input  \\\n",
       "3   sostoken aegon life iterm insurance plan helps...   \n",
       "10  sostoken up cousins fed human excreta for frie...   \n",
       "18  sostoken how long can tolerate congress leader...   \n",
       "20  sostoken think the opposition even dreams abou...   \n",
       "22     sostoken killed injured in saudi arabia floods   \n",
       "\n",
       "                                       decoder_target  \n",
       "3   aegon life iterm insurance plan helps customer...  \n",
       "10  up cousins fed human excreta for friendship wi...  \n",
       "18  how long can tolerate congress leaders potshot...  \n",
       "20  think the opposition even dreams about me pm m...  \n",
       "22     killed injured in saudi arabia floods eostoken  "
      ]
     },
     "execution_count": 54,
     "metadata": {},
     "output_type": "execute_result"
    }
   ],
   "source": [
    "# headlins 데이터에는 시작 토큰과 종료 토큰을 추가한다.\n",
    "data['decoder_input'] = data['headlines'].apply(lambda x : 'sostoken '+ x)\n",
    "data['decoder_target'] = data['headlines'].apply(lambda x : x + ' eostoken')\n",
    "data.head()"
   ]
  },
  {
   "cell_type": "code",
   "execution_count": 55,
   "id": "royal-notice",
   "metadata": {},
   "outputs": [],
   "source": [
    "encoder_input = np.array(data['text']) # 인코더의 입력\n",
    "decoder_input = np.array(data['decoder_input']) # 디코더의 입력\n",
    "decoder_target = np.array(data['decoder_target']) # 디코더의 레이블"
   ]
  },
  {
   "cell_type": "code",
   "execution_count": 56,
   "id": "naval-thong",
   "metadata": {},
   "outputs": [
    {
     "name": "stdout",
     "output_type": "stream",
     "text": [
      "[ 9452 10994  7674 ... 25362 25976 24002]\n"
     ]
    }
   ],
   "source": [
    "indices = np.arange(encoder_input.shape[0])\n",
    "np.random.shuffle(indices)\n",
    "print(indices)"
   ]
  },
  {
   "cell_type": "code",
   "execution_count": 57,
   "id": "noticed-amsterdam",
   "metadata": {},
   "outputs": [],
   "source": [
    "encoder_input = encoder_input[indices]\n",
    "decoder_input = decoder_input[indices]\n",
    "decoder_target = decoder_target[indices]"
   ]
  },
  {
   "cell_type": "code",
   "execution_count": 58,
   "id": "russian-moses",
   "metadata": {},
   "outputs": [
    {
     "name": "stdout",
     "output_type": "stream",
     "text": [
      "테스트 데이터의 수 : 5924\n"
     ]
    }
   ],
   "source": [
    "# 테스트 크기 설정\n",
    "n_of_val = int(len(encoder_input)*0.2)\n",
    "print('테스트 데이터의 수 :', n_of_val)"
   ]
  },
  {
   "cell_type": "code",
   "execution_count": 59,
   "id": "typical-transport",
   "metadata": {},
   "outputs": [
    {
     "name": "stdout",
     "output_type": "stream",
     "text": [
      "훈련 데이터의 개수 : 23699\n",
      "훈련 레이블의 개수 : 23699\n",
      "테스트 데이터의 개수 : 5924\n",
      "테스트 레이블의 개수 : 5924\n"
     ]
    }
   ],
   "source": [
    "# train과 test를 split해주자.\n",
    "encoder_input_train = encoder_input[:-n_of_val]\n",
    "decoder_input_train = decoder_input[:-n_of_val]\n",
    "decoder_target_train = decoder_target[:-n_of_val]\n",
    "\n",
    "encoder_input_test = encoder_input[-n_of_val:]\n",
    "decoder_input_test = decoder_input[-n_of_val:]\n",
    "decoder_target_test = decoder_target[-n_of_val:]\n",
    "\n",
    "print('훈련 데이터의 개수 :', len(encoder_input_train))\n",
    "print('훈련 레이블의 개수 :', len(decoder_input_train))\n",
    "print('테스트 데이터의 개수 :', len(encoder_input_test))\n",
    "print('테스트 레이블의 개수 :', len(decoder_input_test))"
   ]
  },
  {
   "cell_type": "markdown",
   "id": "relative-railway",
   "metadata": {},
   "source": [
    "### 정수 인코딩"
   ]
  },
  {
   "cell_type": "code",
   "execution_count": 60,
   "id": "juvenile-flesh",
   "metadata": {},
   "outputs": [],
   "source": [
    "src_tokenizer = Tokenizer() # 토크나이저 정의\n",
    "src_tokenizer.fit_on_texts(encoder_input_train) # 입력된 데이터로부터 단어 집합 생성"
   ]
  },
  {
   "cell_type": "code",
   "execution_count": 61,
   "id": "particular-toner",
   "metadata": {},
   "outputs": [
    {
     "name": "stdout",
     "output_type": "stream",
     "text": [
      "단어 집합(vocabulary)의 크기 : 39936\n",
      "등장 빈도가 6번 이하인 희귀 단어의 수: 28594\n",
      "단어 집합에서 희귀 단어를 제외시킬 경우의 단어 집합의 크기 11342\n",
      "단어 집합에서 희귀 단어의 비율: 71.5995592948718\n",
      "전체 등장 빈도에서 희귀 단어 등장 빈도 비율: 7.709699417036207\n"
     ]
    }
   ],
   "source": [
    "threshold = 7\n",
    "total_cnt = len(src_tokenizer.word_index) # 단어의 수\n",
    "rare_cnt = 0 # 등장 빈도수가 threshold보다 작은 단어의 개수를 카운트\n",
    "total_freq = 0 # 훈련 데이터의 전체 단어 빈도수 총 합\n",
    "rare_freq = 0 # 등장 빈도수가 threshold보다 작은 단어의 등장 빈도수의 총 합\n",
    "\n",
    "# 단어와 빈도수의 쌍(pair)을 key와 value로 받는다.\n",
    "for key, value in src_tokenizer.word_counts.items():\n",
    "    total_freq = total_freq + value\n",
    "\n",
    "    # 단어의 등장 빈도수가 threshold보다 작으면\n",
    "    if(value < threshold):\n",
    "        rare_cnt = rare_cnt + 1\n",
    "        rare_freq = rare_freq + value\n",
    "\n",
    "print('단어 집합(vocabulary)의 크기 :', total_cnt)\n",
    "print('등장 빈도가 %s번 이하인 희귀 단어의 수: %s'%(threshold - 1, rare_cnt))\n",
    "print('단어 집합에서 희귀 단어를 제외시킬 경우의 단어 집합의 크기 %s'%(total_cnt - rare_cnt))\n",
    "print(\"단어 집합에서 희귀 단어의 비율:\", (rare_cnt / total_cnt)*100)\n",
    "print(\"전체 등장 빈도에서 희귀 단어 등장 빈도 비율:\", (rare_freq / total_freq)*100)"
   ]
  },
  {
   "cell_type": "code",
   "execution_count": 62,
   "id": "simple-settle",
   "metadata": {},
   "outputs": [],
   "source": [
    "src_vocab = 8000\n",
    "src_tokenizer = Tokenizer(num_words=src_vocab) # 단어 집합의 크기를 8,000으로 제한\n",
    "src_tokenizer.fit_on_texts(encoder_input_train) # 단어 집합 재생성."
   ]
  },
  {
   "cell_type": "code",
   "execution_count": 63,
   "id": "regional-purse",
   "metadata": {},
   "outputs": [
    {
     "name": "stdout",
     "output_type": "stream",
     "text": [
      "[[1162, 1647, 1120, 948, 700, 829, 2634, 958, 160, 41, 25, 2635, 38, 126, 1120, 948, 41, 160, 32, 700, 1120, 32, 270, 5324, 4346, 41, 700, 160, 62, 25, 22], [6138, 2876, 1001, 80, 363, 352, 195, 1560, 4840, 469, 146, 839, 756, 4989, 259, 319, 253, 66, 366, 2174, 605, 1259, 195, 4701, 6138, 342, 179, 2729, 12, 1028], [1974, 503, 1974, 140, 1331, 2227, 3217, 1221, 1974, 1382, 15, 1239, 777, 5907, 227, 6139, 266, 1037, 1396, 7639, 840, 1372, 8, 67, 4990, 1331, 4578, 1974]]\n"
     ]
    }
   ],
   "source": [
    "# 텍스트 시퀀스를 정수 시퀀스로 변환\n",
    "encoder_input_train = src_tokenizer.texts_to_sequences(encoder_input_train) \n",
    "encoder_input_test = src_tokenizer.texts_to_sequences(encoder_input_test)\n",
    "\n",
    "# 잘 진행되었는지 샘플 출력\n",
    "print(encoder_input_train[:3])"
   ]
  },
  {
   "cell_type": "code",
   "execution_count": 64,
   "id": "turned-agenda",
   "metadata": {},
   "outputs": [],
   "source": [
    "tar_tokenizer = Tokenizer()\n",
    "tar_tokenizer.fit_on_texts(decoder_input_train)"
   ]
  },
  {
   "cell_type": "code",
   "execution_count": 65,
   "id": "expanded-architecture",
   "metadata": {},
   "outputs": [
    {
     "name": "stdout",
     "output_type": "stream",
     "text": [
      "단어 집합(vocabulary)의 크기 : 18832\n",
      "등장 빈도가 5번 이하인 희귀 단어의 수: 13770\n",
      "단어 집합에서 희귀 단어를 제외시킬 경우의 단어 집합의 크기 5062\n",
      "단어 집합에서 희귀 단어의 비율: 73.12022090059473\n",
      "전체 등장 빈도에서 희귀 단어 등장 빈도 비율: 11.756271100301303\n"
     ]
    }
   ],
   "source": [
    "threshold = 6\n",
    "total_cnt = len(tar_tokenizer.word_index) # 단어의 수\n",
    "rare_cnt = 0 # 등장 빈도수가 threshold보다 작은 단어의 개수를 카운트\n",
    "total_freq = 0 # 훈련 데이터의 전체 단어 빈도수 총 합\n",
    "rare_freq = 0 # 등장 빈도수가 threshold보다 작은 단어의 등장 빈도수의 총 합\n",
    "\n",
    "## 단어와 빈도수의 쌍(pair)을 key와 value로 받는다.\n",
    "for key, value in tar_tokenizer.word_counts.items():\n",
    "    total_freq = total_freq + value\n",
    "\n",
    "    ## 단어의 등장 빈도수가 threshold보다 작으면\n",
    "    if(value < threshold):\n",
    "        rare_cnt = rare_cnt + 1\n",
    "        rare_freq = rare_freq + value\n",
    "\n",
    "print('단어 집합(vocabulary)의 크기 :', total_cnt)\n",
    "print('등장 빈도가 %s번 이하인 희귀 단어의 수: %s'%(threshold - 1, rare_cnt))\n",
    "print('단어 집합에서 희귀 단어를 제외시킬 경우의 단어 집합의 크기 %s'%(total_cnt - rare_cnt))\n",
    "print(\"단어 집합에서 희귀 단어의 비율:\", (rare_cnt / total_cnt)*100)\n",
    "print(\"전체 등장 빈도에서 희귀 단어 등장 빈도 비율:\", (rare_freq / total_freq)*100)"
   ]
  },
  {
   "cell_type": "code",
   "execution_count": 66,
   "id": "bridal-penalty",
   "metadata": {},
   "outputs": [
    {
     "name": "stdout",
     "output_type": "stream",
     "text": [
      "input\n",
      "input  [[1, 1272, 582, 911, 131, 77, 6, 430, 864], [1, 93, 314, 6, 661, 6, 351], [1, 1023, 4, 32, 593, 41, 4, 75, 947], [1, 35, 37, 843, 25, 989, 29, 774, 824], [1, 539, 475, 36, 5, 568, 990, 495, 137]]\n",
      "target\n",
      "decoder  [[1272, 582, 911, 131, 77, 6, 430, 864, 2], [93, 314, 6, 661, 6, 351, 2], [1023, 4, 32, 593, 41, 4, 75, 947, 2], [35, 37, 843, 25, 989, 29, 774, 824, 2], [539, 475, 36, 5, 568, 990, 495, 137, 2]]\n"
     ]
    }
   ],
   "source": [
    "tar_vocab = 2000\n",
    "tar_tokenizer = Tokenizer(num_words=tar_vocab) \n",
    "tar_tokenizer.fit_on_texts(decoder_input_train)\n",
    "tar_tokenizer.fit_on_texts(decoder_target_train)\n",
    "\n",
    "## 텍스트 시퀀스를 정수 시퀀스로 변환\n",
    "decoder_input_train = tar_tokenizer.texts_to_sequences(decoder_input_train) \n",
    "decoder_target_train = tar_tokenizer.texts_to_sequences(decoder_target_train)\n",
    "decoder_input_test = tar_tokenizer.texts_to_sequences(decoder_input_test)\n",
    "decoder_target_test = tar_tokenizer.texts_to_sequences(decoder_target_test)\n",
    "\n",
    "## 잘 변환되었는지 확인\n",
    "print('input')\n",
    "print('input ',decoder_input_train[:5])\n",
    "print('target')\n",
    "print('decoder ',decoder_target_train[:5])"
   ]
  },
  {
   "cell_type": "code",
   "execution_count": 67,
   "id": "stretch-aggregate",
   "metadata": {},
   "outputs": [
    {
     "name": "stdout",
     "output_type": "stream",
     "text": [
      "삭제할 훈련 데이터의 개수 : 4\n",
      "삭제할 테스트 데이터의 개수 : 2\n",
      "훈련 데이터의 개수 : 23695\n",
      "훈련 레이블의 개수 : 23695\n",
      "테스트 데이터의 개수 : 5922\n",
      "테스트 레이블의 개수 : 5922\n"
     ]
    },
    {
     "name": "stderr",
     "output_type": "stream",
     "text": [
      "/opt/conda/lib/python3.7/site-packages/numpy/core/_asarray.py:83: VisibleDeprecationWarning: Creating an ndarray from ragged nested sequences (which is a list-or-tuple of lists-or-tuples-or ndarrays with different lengths or shapes) is deprecated. If you meant to do this, you must specify 'dtype=object' when creating the ndarray\n",
      "  return array(a, dtype, copy=False, order=order)\n"
     ]
    }
   ],
   "source": [
    "## 변환하면서 빈칸이 된 데이터가 있을 것이다. 빈칸 데이터는 삭제해주기 위해 데이터를 거른다.\n",
    "drop_train = [index for index, sentence in enumerate(decoder_input_train) if len(sentence) == 1]\n",
    "drop_test = [index for index, sentence in enumerate(decoder_input_test) if len(sentence) == 1]\n",
    "\n",
    "print('삭제할 훈련 데이터의 개수 :', len(drop_train))\n",
    "print('삭제할 테스트 데이터의 개수 :', len(drop_test))\n",
    "\n",
    "## np.delete를 이용해서 데이터 삭제\n",
    "encoder_input_train = np.delete(encoder_input_train, drop_train, axis=0)\n",
    "decoder_input_train = np.delete(decoder_input_train, drop_train, axis=0)\n",
    "decoder_target_train = np.delete(decoder_target_train, drop_train, axis=0)\n",
    "\n",
    "encoder_input_test = np.delete(encoder_input_test, drop_test, axis=0)\n",
    "decoder_input_test = np.delete(decoder_input_test, drop_test, axis=0)\n",
    "decoder_target_test = np.delete(decoder_target_test, drop_test, axis=0)\n",
    "\n",
    "print('훈련 데이터의 개수 :', len(encoder_input_train))\n",
    "print('훈련 레이블의 개수 :', len(decoder_input_train))\n",
    "print('테스트 데이터의 개수 :', len(encoder_input_test))\n",
    "print('테스트 레이블의 개수 :', len(decoder_input_test))"
   ]
  },
  {
   "cell_type": "code",
   "execution_count": 68,
   "id": "satisfactory-evolution",
   "metadata": {},
   "outputs": [],
   "source": [
    "# 패딩하기\n",
    "\n",
    "encoder_input_train = pad_sequences(encoder_input_train, maxlen=text_max_len, padding='post')\n",
    "encoder_input_test = pad_sequences(encoder_input_test, maxlen=text_max_len, padding='post')\n",
    "decoder_input_train = pad_sequences(decoder_input_train, maxlen=headlines_max_len, padding='post')\n",
    "decoder_target_train = pad_sequences(decoder_target_train, maxlen=headlines_max_len, padding='post')\n",
    "decoder_input_test = pad_sequences(decoder_input_test, maxlen=headlines_max_len, padding='post')\n",
    "decoder_target_test = pad_sequences(decoder_target_test, maxlen=headlines_max_len, padding='post')"
   ]
  },
  {
   "cell_type": "markdown",
   "id": "freelance-bhutan",
   "metadata": {},
   "source": [
    "## Step 3. 어텐션 메커니즘 사용하기"
   ]
  },
  {
   "cell_type": "code",
   "execution_count": 70,
   "id": "pretty-suite",
   "metadata": {},
   "outputs": [
    {
     "name": "stdout",
     "output_type": "stream",
     "text": [
      "WARNING:tensorflow:Layer lstm will not use cuDNN kernel since it doesn't meet the cuDNN kernel criteria. It will use generic GPU kernel as fallback when running on GPU\n",
      "WARNING:tensorflow:Layer lstm_1 will not use cuDNN kernel since it doesn't meet the cuDNN kernel criteria. It will use generic GPU kernel as fallback when running on GPU\n",
      "WARNING:tensorflow:Layer lstm_2 will not use cuDNN kernel since it doesn't meet the cuDNN kernel criteria. It will use generic GPU kernel as fallback when running on GPU\n"
     ]
    }
   ],
   "source": [
    "from tensorflow.keras.layers import Input, LSTM, Embedding, Dense, Concatenate\n",
    "from tensorflow.keras.models import Model\n",
    "from tensorflow.keras.callbacks import EarlyStopping, ModelCheckpoint\n",
    "\n",
    "\n",
    "# 인코더 설계 시작\n",
    "embedding_dim = 128\n",
    "hidden_size = 256\n",
    "\n",
    "# 인코더\n",
    "encoder_inputs = Input(shape=(text_max_len,))\n",
    "\n",
    "# 인코더의 임베딩 층\n",
    "enc_emb = Embedding(src_vocab, embedding_dim)(encoder_inputs)\n",
    "\n",
    "# 인코더의 LSTM 1\n",
    "encoder_lstm1 = LSTM(hidden_size, return_sequences=True, return_state=True ,dropout = 0.4, recurrent_dropout = 0.4)\n",
    "encoder_output1, state_h1, state_c1 = encoder_lstm1(enc_emb)\n",
    "\n",
    "# 인코더의 LSTM 2\n",
    "encoder_lstm2 = LSTM(hidden_size, return_sequences=True, return_state=True, dropout=0.4, recurrent_dropout=0.4)\n",
    "encoder_output2, state_h2, state_c2 = encoder_lstm2(encoder_output1)\n",
    "\n",
    "# 인코더의 LSTM 3\n",
    "encoder_lstm3 = LSTM(hidden_size, return_state=True, return_sequences=True, dropout=0.4, recurrent_dropout=0.4)\n",
    "encoder_outputs, state_h, state_c= encoder_lstm3(encoder_output2)"
   ]
  },
  {
   "cell_type": "code",
   "execution_count": 71,
   "id": "internal-statement",
   "metadata": {},
   "outputs": [
    {
     "name": "stdout",
     "output_type": "stream",
     "text": [
      "WARNING:tensorflow:Layer lstm_3 will not use cuDNN kernel since it doesn't meet the cuDNN kernel criteria. It will use generic GPU kernel as fallback when running on GPU\n"
     ]
    }
   ],
   "source": [
    "# 디코더 설계\n",
    "decoder_inputs = Input(shape=(None,))\n",
    "\n",
    "# 디코더의 임베딩 층\n",
    "dec_emb_layer = Embedding(tar_vocab, embedding_dim)\n",
    "dec_emb = dec_emb_layer(decoder_inputs)\n",
    "\n",
    "# 디코더의 LSTM\n",
    "decoder_lstm = LSTM(hidden_size, return_sequences=True, return_state=True, dropout=0.4, recurrent_dropout=0.2)\n",
    "decoder_outputs, _, _ = decoder_lstm(dec_emb, initial_state=[state_h, state_c])"
   ]
  },
  {
   "cell_type": "code",
   "execution_count": 72,
   "id": "significant-dragon",
   "metadata": {},
   "outputs": [
    {
     "name": "stdout",
     "output_type": "stream",
     "text": [
      "Model: \"model\"\n",
      "__________________________________________________________________________________________________\n",
      "Layer (type)                    Output Shape         Param #     Connected to                     \n",
      "==================================================================================================\n",
      "input_1 (InputLayer)            [(None, 35)]         0                                            \n",
      "__________________________________________________________________________________________________\n",
      "embedding (Embedding)           (None, 35, 128)      1024000     input_1[0][0]                    \n",
      "__________________________________________________________________________________________________\n",
      "lstm (LSTM)                     [(None, 35, 256), (N 394240      embedding[0][0]                  \n",
      "__________________________________________________________________________________________________\n",
      "input_2 (InputLayer)            [(None, None)]       0                                            \n",
      "__________________________________________________________________________________________________\n",
      "lstm_1 (LSTM)                   [(None, 35, 256), (N 525312      lstm[0][0]                       \n",
      "__________________________________________________________________________________________________\n",
      "embedding_1 (Embedding)         (None, None, 128)    256000      input_2[0][0]                    \n",
      "__________________________________________________________________________________________________\n",
      "lstm_2 (LSTM)                   [(None, 35, 256), (N 525312      lstm_1[0][0]                     \n",
      "__________________________________________________________________________________________________\n",
      "lstm_3 (LSTM)                   [(None, None, 256),  394240      embedding_1[0][0]                \n",
      "                                                                 lstm_2[0][1]                     \n",
      "                                                                 lstm_2[0][2]                     \n",
      "__________________________________________________________________________________________________\n",
      "dense (Dense)                   (None, None, 2000)   514000      lstm_3[0][0]                     \n",
      "==================================================================================================\n",
      "Total params: 3,633,104\n",
      "Trainable params: 3,633,104\n",
      "Non-trainable params: 0\n",
      "__________________________________________________________________________________________________\n"
     ]
    }
   ],
   "source": [
    "# 디코더의 출력층\n",
    "decoder_softmax_layer = Dense(tar_vocab, activation='softmax')\n",
    "decoder_softmax_outputs = decoder_softmax_layer(decoder_outputs) \n",
    "\n",
    "# 모델 정의\n",
    "model = Model([encoder_inputs, decoder_inputs], decoder_softmax_outputs)\n",
    "model.summary()"
   ]
  },
  {
   "cell_type": "code",
   "execution_count": 73,
   "id": "activated-virus",
   "metadata": {},
   "outputs": [],
   "source": [
    "urllib.request.urlretrieve(\"https://raw.githubusercontent.com/thushv89/attention_keras/master/src/layers/attention.py\", filename=\"attention.py\")\n",
    "from attention import AttentionLayer"
   ]
  },
  {
   "cell_type": "code",
   "execution_count": 74,
   "id": "helpful-metro",
   "metadata": {},
   "outputs": [
    {
     "name": "stdout",
     "output_type": "stream",
     "text": [
      "Model: \"model_1\"\n",
      "__________________________________________________________________________________________________\n",
      "Layer (type)                    Output Shape         Param #     Connected to                     \n",
      "==================================================================================================\n",
      "input_1 (InputLayer)            [(None, 35)]         0                                            \n",
      "__________________________________________________________________________________________________\n",
      "embedding (Embedding)           (None, 35, 128)      1024000     input_1[0][0]                    \n",
      "__________________________________________________________________________________________________\n",
      "lstm (LSTM)                     [(None, 35, 256), (N 394240      embedding[0][0]                  \n",
      "__________________________________________________________________________________________________\n",
      "input_2 (InputLayer)            [(None, None)]       0                                            \n",
      "__________________________________________________________________________________________________\n",
      "lstm_1 (LSTM)                   [(None, 35, 256), (N 525312      lstm[0][0]                       \n",
      "__________________________________________________________________________________________________\n",
      "embedding_1 (Embedding)         (None, None, 128)    256000      input_2[0][0]                    \n",
      "__________________________________________________________________________________________________\n",
      "lstm_2 (LSTM)                   [(None, 35, 256), (N 525312      lstm_1[0][0]                     \n",
      "__________________________________________________________________________________________________\n",
      "lstm_3 (LSTM)                   [(None, None, 256),  394240      embedding_1[0][0]                \n",
      "                                                                 lstm_2[0][1]                     \n",
      "                                                                 lstm_2[0][2]                     \n",
      "__________________________________________________________________________________________________\n",
      "attention_layer (AttentionLayer ((None, None, 256),  131328      lstm_2[0][0]                     \n",
      "                                                                 lstm_3[0][0]                     \n",
      "__________________________________________________________________________________________________\n",
      "concat_layer (Concatenate)      (None, None, 512)    0           lstm_3[0][0]                     \n",
      "                                                                 attention_layer[0][0]            \n",
      "__________________________________________________________________________________________________\n",
      "dense_1 (Dense)                 (None, None, 2000)   1026000     concat_layer[0][0]               \n",
      "==================================================================================================\n",
      "Total params: 4,276,432\n",
      "Trainable params: 4,276,432\n",
      "Non-trainable params: 0\n",
      "__________________________________________________________________________________________________\n"
     ]
    }
   ],
   "source": [
    "# 어텐션 층(어텐션 함수)\n",
    "attn_layer = AttentionLayer(name='attention_layer')\n",
    "# 인코더와 디코더의 모든 time step의 hidden state를 어텐션 층에 전달하고 결과를 리턴\n",
    "attn_out, attn_states = attn_layer([encoder_outputs, decoder_outputs])\n",
    "\n",
    "# 어텐션의 결과와 디코더의 hidden state들을 연결\n",
    "decoder_concat_input = Concatenate(axis=-1, name='concat_layer')([decoder_outputs, attn_out])\n",
    "\n",
    "# 디코더의 출력층\n",
    "decoder_softmax_layer = Dense(tar_vocab, activation='softmax')\n",
    "decoder_softmax_outputs = decoder_softmax_layer(decoder_concat_input)\n",
    "\n",
    "# 모델 정의\n",
    "model = Model([encoder_inputs, decoder_inputs], decoder_softmax_outputs)\n",
    "model.summary()"
   ]
  },
  {
   "cell_type": "markdown",
   "id": "turkish-snake",
   "metadata": {},
   "source": [
    "### 모델 훈련"
   ]
  },
  {
   "cell_type": "code",
   "execution_count": 75,
   "id": "destroyed-basket",
   "metadata": {},
   "outputs": [
    {
     "name": "stdout",
     "output_type": "stream",
     "text": [
      "Epoch 1/50\n",
      "93/93 [==============================] - 70s 625ms/step - loss: 5.2674 - val_loss: 4.4758\n",
      "Epoch 2/50\n",
      "93/93 [==============================] - 57s 610ms/step - loss: 4.4997 - val_loss: 4.2556\n",
      "Epoch 3/50\n",
      "93/93 [==============================] - 57s 611ms/step - loss: 4.2834 - val_loss: 4.1556\n",
      "Epoch 4/50\n",
      "93/93 [==============================] - 57s 611ms/step - loss: 4.1555 - val_loss: 4.0660\n",
      "Epoch 5/50\n",
      "93/93 [==============================] - 57s 612ms/step - loss: 4.0476 - val_loss: 3.9681\n",
      "Epoch 6/50\n",
      "93/93 [==============================] - 57s 614ms/step - loss: 3.9201 - val_loss: 3.8653\n",
      "Epoch 7/50\n",
      "93/93 [==============================] - 57s 613ms/step - loss: 3.7897 - val_loss: 3.7613\n",
      "Epoch 8/50\n",
      "93/93 [==============================] - 57s 614ms/step - loss: 3.6566 - val_loss: 3.6846\n",
      "Epoch 9/50\n",
      "93/93 [==============================] - 57s 613ms/step - loss: 3.5444 - val_loss: 3.6151\n",
      "Epoch 10/50\n",
      "93/93 [==============================] - 57s 612ms/step - loss: 3.4323 - val_loss: 3.5422\n",
      "Epoch 11/50\n",
      "93/93 [==============================] - 57s 612ms/step - loss: 3.3342 - val_loss: 3.5169\n",
      "Epoch 12/50\n",
      "93/93 [==============================] - 57s 612ms/step - loss: 3.2406 - val_loss: 3.4672\n",
      "Epoch 13/50\n",
      "93/93 [==============================] - 57s 613ms/step - loss: 3.1619 - val_loss: 3.4256\n",
      "Epoch 14/50\n",
      "93/93 [==============================] - 57s 614ms/step - loss: 3.0721 - val_loss: 3.3999\n",
      "Epoch 15/50\n",
      "93/93 [==============================] - 57s 613ms/step - loss: 3.0066 - val_loss: 3.3802\n",
      "Epoch 16/50\n",
      "93/93 [==============================] - 58s 625ms/step - loss: 2.9250 - val_loss: 3.3715\n",
      "Epoch 17/50\n",
      "93/93 [==============================] - 57s 612ms/step - loss: 2.8795 - val_loss: 3.3493\n",
      "Epoch 18/50\n",
      "93/93 [==============================] - 57s 613ms/step - loss: 2.8054 - val_loss: 3.3283\n",
      "Epoch 19/50\n",
      "93/93 [==============================] - 57s 612ms/step - loss: 2.7438 - val_loss: 3.3310\n",
      "Epoch 20/50\n",
      "93/93 [==============================] - 57s 611ms/step - loss: 2.6926 - val_loss: 3.3203\n",
      "Epoch 21/50\n",
      "93/93 [==============================] - 57s 613ms/step - loss: 2.6251 - val_loss: 3.3153\n",
      "Epoch 22/50\n",
      "93/93 [==============================] - 57s 612ms/step - loss: 2.5773 - val_loss: 3.3109\n",
      "Epoch 23/50\n",
      "93/93 [==============================] - 57s 612ms/step - loss: 2.5381 - val_loss: 3.3129\n",
      "Epoch 24/50\n",
      "93/93 [==============================] - 57s 611ms/step - loss: 2.4731 - val_loss: 3.3127\n",
      "Epoch 00024: early stopping\n"
     ]
    }
   ],
   "source": [
    "model.compile(optimizer='rmsprop', loss='sparse_categorical_crossentropy')\n",
    "es = EarlyStopping(monitor='val_loss', patience=2, verbose=1)\n",
    "history = model.fit(x=[encoder_input_train, decoder_input_train], y=decoder_target_train, \\\n",
    "          validation_data=([encoder_input_test, decoder_input_test], decoder_target_test), \\\n",
    "          batch_size=256, callbacks=[es], epochs=50)"
   ]
  },
  {
   "cell_type": "code",
   "execution_count": 76,
   "id": "portuguese-camping",
   "metadata": {},
   "outputs": [
    {
     "data": {
      "image/png": "[encoded data removed]",
      "text/plain": [
       "<Figure size 432x288 with 1 Axes>"
      ]
     },
     "metadata": {
      "needs_background": "light"
     },
     "output_type": "display_data"
    }
   ],
   "source": [
    "plt.plot(history.history['loss'], label='train')\n",
    "plt.plot(history.history['val_loss'], label='test')\n",
    "plt.legend()\n",
    "plt.show()"
   ]
  },
  {
   "cell_type": "markdown",
   "id": "different-contract",
   "metadata": {},
   "source": [
    "### 인퍼런스 모델 구현"
   ]
  },
  {
   "cell_type": "code",
   "execution_count": 79,
   "id": "polish-sheep",
   "metadata": {},
   "outputs": [],
   "source": [
    "src_index_to_word = src_tokenizer.index_word # 원문 단어 집합에서 정수 -> 단어를 얻음\n",
    "tar_word_to_index = tar_tokenizer.word_index # 요약 단어 집합에서 단어 -> 정수를 얻음\n",
    "tar_index_to_word = tar_tokenizer.index_word # 요약 단어 집합에서 정수 -> 단어를 얻음"
   ]
  },
  {
   "cell_type": "code",
   "execution_count": 80,
   "id": "fiscal-audio",
   "metadata": {},
   "outputs": [],
   "source": [
    "# 인코더 설계\n",
    "encoder_model = Model(inputs=encoder_inputs, outputs=[encoder_outputs, state_h, state_c])\n",
    "\n",
    "# 이전 시점의 상태들을 저장하는 텐서\n",
    "decoder_state_input_h = Input(shape=(hidden_size,))\n",
    "decoder_state_input_c = Input(shape=(hidden_size,))\n",
    "\n",
    "dec_emb2 = dec_emb_layer(decoder_inputs)\n",
    "\n",
    "# 문장의 다음 단어를 예측하기 위해서 초기 상태(initial_state)를 이전 시점의 상태로 사용. 이는 뒤의 함수 decode_sequence()에 구현\n",
    "# 훈련 과정에서와 달리 LSTM의 리턴하는 은닉 상태와 셀 상태인 state_h와 state_c를 버리지 않음.\n",
    "decoder_outputs2, state_h2, state_c2 = decoder_lstm(dec_emb2, initial_state=[decoder_state_input_h, decoder_state_input_c])"
   ]
  },
  {
   "cell_type": "code",
   "execution_count": 81,
   "id": "internal-villa",
   "metadata": {},
   "outputs": [],
   "source": [
    "# 어텐션 함수\n",
    "decoder_hidden_state_input = Input(shape=(text_max_len, hidden_size))\n",
    "attn_out_inf, attn_states_inf = attn_layer([decoder_hidden_state_input, decoder_outputs2])\n",
    "decoder_inf_concat = Concatenate(axis=-1, name='concat')([decoder_outputs2, attn_out_inf])\n",
    "\n",
    "# 디코더의 출력층\n",
    "decoder_outputs2 = decoder_softmax_layer(decoder_inf_concat) \n",
    "\n",
    "# 최종 디코더 모델\n",
    "decoder_model = Model(\n",
    "    [decoder_inputs] + [decoder_hidden_state_input,decoder_state_input_h, decoder_state_input_c],\n",
    "    [decoder_outputs2] + [state_h2, state_c2])"
   ]
  },
  {
   "cell_type": "code",
   "execution_count": 82,
   "id": "authentic-edward",
   "metadata": {},
   "outputs": [],
   "source": [
    "def decode_sequence(input_seq):\n",
    "    # 입력으로부터 인코더의 상태를 얻음\n",
    "    e_out, e_h, e_c = encoder_model.predict(input_seq)\n",
    "\n",
    "     # <SOS>에 해당하는 토큰 생성\n",
    "    target_seq = np.zeros((1,1))\n",
    "    target_seq[0, 0] = tar_word_to_index['sostoken']\n",
    "\n",
    "    stop_condition = False\n",
    "    decoded_sentence = ''\n",
    "    while not stop_condition: # stop_condition이 True가 될 때까지 루프 반복\n",
    "\n",
    "        output_tokens, h, c = decoder_model.predict([target_seq] + [e_out, e_h, e_c])\n",
    "        sampled_token_index = np.argmax(output_tokens[0, -1, :])\n",
    "        sampled_token = tar_index_to_word[sampled_token_index]\n",
    "\n",
    "        if (sampled_token!='eostoken'):\n",
    "            decoded_sentence += ' '+sampled_token\n",
    "\n",
    "        #  <eos>에 도달하거나 최대 길이를 넘으면 중단.\n",
    "        if (sampled_token == 'eostoken'  or len(decoded_sentence.split()) >= (headlines_max_len-1)):\n",
    "            stop_condition = True\n",
    "\n",
    "        # 길이가 1인 타겟 시퀀스를 업데이트\n",
    "        target_seq = np.zeros((1,1))\n",
    "        target_seq[0, 0] = sampled_token_index\n",
    "\n",
    "        # 상태를 업데이트 합니다.\n",
    "        e_h, e_c = h, c\n",
    "\n",
    "    return decoded_sentence"
   ]
  },
  {
   "cell_type": "code",
   "execution_count": 83,
   "id": "sweet-control",
   "metadata": {},
   "outputs": [],
   "source": [
    "# 원문의 정수 시퀀스를 텍스트 시퀀스로 변환\n",
    "def seq2text(input_seq):\n",
    "    temp=''\n",
    "    for i in input_seq:\n",
    "        if (i!=0):\n",
    "            temp = temp + src_index_to_word[i]+' '\n",
    "    return temp\n",
    "\n",
    "# 요약문의 정수 시퀀스를 텍스트 시퀀스로 변환\n",
    "def seq2summary(input_seq):\n",
    "    temp=''\n",
    "    for i in input_seq:\n",
    "        if ((i!=0 and i!=tar_word_to_index['sostoken']) and i!=tar_word_to_index['eostoken']):\n",
    "            temp = temp + tar_index_to_word[i] + ' '\n",
    "    return temp"
   ]
  },
  {
   "cell_type": "markdown",
   "id": "resistant-blade",
   "metadata": {},
   "source": [
    "## Step 4. 실제 결과와 요약문 비교하기 "
   ]
  },
  {
   "cell_type": "code",
   "execution_count": 84,
   "id": "elegant-joshua",
   "metadata": {},
   "outputs": [
    {
     "name": "stdout",
     "output_type": "stream",
     "text": [
      "원문 : filmmaker aanand rai said important approach making film films part life driving force story times get something society times want give something society added different high something paper big screen aanand said \n",
      "실제 요약 : to have as \n",
      "예측 요약 :  cbfc is in\n",
      "\n",
      "\n",
      "원문 : two thane based siblings fish export firm allegedly kidnapped business trip malaysia unknown persons demanding ransom crore informed family alleged kidnapping following police complaint filed indian embassy malaysia informed complaint also lodged malaysian police \n",
      "실제 요약 : indian kidnapped during business in malaysia \n",
      "예측 요약 :  year old man caught smuggling fake atm\n",
      "\n",
      "\n",
      "원문 : australian man two one week winning may another saturday said plans invest real estate purchase new car take trip added chances winning twice short period time must non \n",
      "실제 요약 : man wins two in one week gets crore \n",
      "예측 요약 :  man to in\n",
      "\n",
      "\n",
      "원문 : bcci reportedly denied recommended name india coach rahul dravid award comes chief vinod rai said dravid board nominee award year bcci nominated sunil gavaskar name chand lifetime achievement award despite \n",
      "실제 요약 : bcci denies dravid for award reports \n",
      "예측 요약 :  bcci to kohli on\n",
      "\n",
      "\n",
      "원문 : mumbai man arrested allegedly stayed three five star hotels without paying bills amounting lakh staff hotel reportedly let man check room showed fake message stating transferred account accused confessed playing similar two hotels \n",
      "실제 요약 : mumbai man without star \n",
      "예측 요약 :  delhi police arrested for stealing\n",
      "\n",
      "\n",
      "원문 : occasion ganesh sanjay dutt released ganesh sung comeback film music track credited aditya dev original lyrics retained directed kumar film also stars rao scheduled release september \n",
      "실제 요약 : sanjay dutt for film \n",
      "예측 요약 :  song from film\n",
      "\n",
      "\n",
      "원문 : boeing able save million cost plane using printed parts norwegian company said hired boeing print four structural parts boeing year \n",
      "실제 요약 : could save crore per plane with \n",
      "예측 요약 :  crypto exchange to raise crore in\n",
      "\n",
      "\n",
      "원문 : government probing competition act check big discounts offered online retailers like amazon flipkart promote competition member panel set ministry corporate affairs competition law review panel corporate affairs secretary \n",
      "실제 요약 : government panel to probe big by amazon flipkart \n",
      "예측 요약 :  govt ceo to launch\n",
      "\n",
      "\n",
      "원문 : uttarakhand chief minister trivendra singh rawat suspended teacher argument two transfer janata video incident teacher seen shouting cm rawat orders policemen suspend immediately take custody later said suspended using abusive language \n",
      "실제 요약 : khand cm suspends teacher after over her \n",
      "예측 요약 :  cm issued in up for\n",
      "\n",
      "\n",
      "원문 : absconding businessman liquor baron vijay mallya granted bail tuesday till december said media court proceedings denied allegations made continue deny former kingfisher airlines chief said enough evidence prove case added \n",
      "실제 요약 : not to media mallya after being granted bail \n",
      "예측 요약 :  have been in my death\n",
      "\n",
      "\n",
      "원문 : cabinet today approved hike allowance central government employees relief effect january hike expected benefit lakh central government employees lakh impact da hike crore per \n",
      "실제 요약 : to for central govt employees \n",
      "예측 요약 :  cabinet approves cr for hike\n",
      "\n",
      "\n",
      "원문 : pakistani pacer hasan ali pulled neck bomb explosion celebration picking wicket zimbabwe nd odi monday ali picked overs got injury scare second wicket ali immediately sat ground pain teammates \n",
      "실제 요약 : pak injures himself with bomb explosion \n",
      "예측 요약 :  afghanistan reveals he to play series\n",
      "\n",
      "\n",
      "원문 : odi cricket history th match took place new guinea hong kong saturday almost years th odi th odi zimbabwe pakistan april came years first ever odi played january england australia many teams played odis \n",
      "실제 요약 : first took years next took just years \n",
      "예측 요약 :  india lose highest in overs in\n",
      "\n",
      "\n",
      "원문 : new song titled amitabh bachchan rishi kapoor starrer released amitabh rishi sung song amitabh also song composed amitabh bachchan lyrics amitabh bhattacharya directed shukla film scheduled release may \n",
      "실제 요약 : big in song from not out \n",
      "예측 요약 :  song from varun dhawan starrer released\n",
      "\n",
      "\n",
      "원문 : kerala government cover medical expenses patients infected nipah virus cm pinarayi vijayan said praising state health officials said state contain disease compared countries kerala provide free ration around people observation added \n",
      "실제 요약 : kerala to pay medical of \n",
      "예측 요약 :  kerala govt to get for kerala\n",
      "\n",
      "\n",
      "원문 : jammu kashmir human rights commission friday ordered relief lakh man lost seven family members terror attack happened july man pleaded rights commission state authorities granted lakh ex gratia compensation attack \n",
      "실제 요약 : body orders lakh for terror attack survivor \n",
      "예측 요약 :  over fake fake cards in\n",
      "\n",
      "\n",
      "원문 : aviation runs india largest airline indigo wednesday posted fall march quarter profit crore company said profits lower compared period last year primarily increase fuel prices foreign exchange impact company revenues rose nearly crore \n",
      "실제 요약 : indigo quarter profit falls by to crore \n",
      "예측 요약 :  indigo profit rises to crore in quarter\n",
      "\n",
      "\n",
      "원문 : actress kareena kapoor pictures photoshoot wedding magazine surfaced online seen wearing blue gown print cover magazine actress look statement jewellery kareena featured magazine cover story titled bollywood inspiration \n",
      "실제 요약 : kareena pictures from magazine online \n",
      "예측 요약 :  disha to launch bigg boss reports\n",
      "\n",
      "\n",
      "원문 : four railway officials suspended one transferred coaches express derailed muzaffarnagar district saturday according reports railway manager delhi northern railway general manager railway board member engineering sent leave least people killed injured accident \n",
      "실제 요약 : railway officials suspended over up train \n",
      "예측 요약 :  coaches of express in bihar\n",
      "\n",
      "\n",
      "원문 : chris us based product designer introduced hashtag first time symbol used tag social media groups topics tweets allegedly got idea internet chat rooms symbol front first posted hashtag twitter august \n",
      "실제 요약 : who the on twitter \n",
      "예측 요약 :  mcgregor launches feature to\n",
      "\n",
      "\n",
      "원문 : uk queen elizabeth ii compared us president donald trump chopper filming documentary palace always go round round want talk sounds like trump president obama said interrupted helicopter flying \n",
      "실제 요약 : uk queen us president trump to \n",
      "예측 요약 :  white house trump tweets from trump\n",
      "\n",
      "\n",
      "원문 : guinness world record largest performance includes participants set chennai april attempt organised participants wore red white previous record set involved participants \n",
      "실제 요약 : over indians perform set world record \n",
      "예측 요약 :  world longest sets world record\n",
      "\n",
      "\n",
      "원문 : regional district headquarters indian coast guard passed order deny subsidised liquor employees order officers sailors headquarters coast guard district gujarat according order interim measure give check curb cases \n",
      "실제 요약 : no alcohol for employees coast guard \n",
      "예측 요약 :  andhra body to give to\n",
      "\n",
      "\n",
      "원문 : least people killed others injured sunday suicide attack funeral eastern afghanistan officials said attacker blew people gathered funeral former district governor cemetery afghanistan city immediate claim responsibility attack \n",
      "실제 요약 : killed in suicide attack at funeral in afghanistan \n",
      "예측 요약 :  killed in suicide bombing in afghanistan\n",
      "\n",
      "\n",
      "원문 : responding rti application directorate general military operations said records surgical strikes conducted september also defined surgical strikes operations planned based specific intelligence legitimate military target maximum effect minimum damage \n",
      "실제 요약 : no records of any strike \n",
      "예측 요약 :  saudi arabia to build notes\n",
      "\n",
      "\n",
      "원문 : hollywood singer john legend gave performance train station london wednesday morning performed one public station performance drew large crowd busy train station john legend properly earning last name tweeted user sharing video performance \n",
      "실제 요약 : singer john performs at train station \n",
      "예측 요약 :  actor actor train to train\n",
      "\n",
      "\n",
      "원문 : alleged letter islamic state threatening destroy eastern uttar pradesh surfaced varanasi save eastern uttar pradesh march read letter content letter also pakistan written intelligence agencies begun investigation matter \n",
      "실제 요약 : islamic state letter threatens to up \n",
      "예측 요약 :  iraq to stop for\n",
      "\n",
      "\n",
      "원문 : india fast bowler jasprit bumrah become highest wicket international cricket picking wickets melbourne test australia year old taken wickets year south africa pacer taken wickets bumrah took wickets tests odis \n",
      "실제 요약 : becomes top in international cricket in \n",
      "예측 요약 :  only average ever in overs\n",
      "\n",
      "\n",
      "원문 : nearly music events uk including secret garden party hold hour website monday increase awareness sexual violence websites display hashtag also pledged promote consent maintain zero approach sexual \n",
      "실제 요약 : to hold for sexual violence \n",
      "예측 요약 :  to be from\n",
      "\n",
      "\n",
      "원문 : three people arrested allegedly killing two policemen rajasthan monday told police policemen vehicle one belonging gangster manoj swami fired three men associates rival gangster ajay main accused case incident took place october \n",
      "실제 요약 : two policemen killed after being for \n",
      "예측 요약 :  arrested for delhi police constable in delhi\n",
      "\n",
      "\n",
      "원문 : virat kohli became expensive player indian premier league crore thursday never auctioned tournament history picked player rcb always retained since kohli player feature ipl never gone \n",
      "실제 요약 : ipl most expensive player kohli has never been auctioned \n",
      "예측 요약 :  kohli sold for cr at auction\n",
      "\n",
      "\n",
      "원문 : delhi patiala house court tuesday death sentence singh announced life imprisonment another convict anti sikh riots case two convicted last week killing two sikhs delhi assassination prime minister indira gandhi \n",
      "실제 요약 : convict gets death sentence in anti sikh case \n",
      "예측 요약 :  police officer chargesheet in case against\n",
      "\n",
      "\n",
      "원문 : world bank announced funding billion indonesian government relief efforts wake earthquake tsunami hit country last month said package could include cash lakh affected families period months one year \n",
      "실제 요약 : world bank announces billion for hit indonesia \n",
      "예측 요약 :  crypto exchange to invest cr in fy\n",
      "\n",
      "\n",
      "원문 : year old boy allegedly owner village uttar pradesh police said boy friends gone haridwar yatra way back taken work run money accused also threatened victim arrested \n",
      "실제 요약 : year old boy in up owner arrested \n",
      "예측 요약 :  year old boy dies after being in\n",
      "\n",
      "\n",
      "원문 : married couple us recently discovered biological twins dna test able naturally adopted separate families parents died knew shared often told looked similar neither aware twin \n",
      "실제 요약 : married couple trying to they are twins \n",
      "예측 요약 :  woman in uk\n",
      "\n",
      "\n",
      "원문 : apple expensive phone iphone base model selling india costs company make according technology intelligence firm iphone parts cost apple iphone added iphone makes company money per phone iphone \n",
      "실제 요약 : apple iphone to make \n",
      "예측 요약 :  apple to launch apple in patent\n",
      "\n",
      "\n",
      "원문 : tesla shares fell much friday ceo elon musk told new york times tweet taking company private reviewed anybody newspaper reported billionaire frequently interview musk said past year difficult painful year career \n",
      "실제 요약 : tesla shares fall after musk gives \n",
      "예측 요약 :  tesla musk cook to be in\n",
      "\n",
      "\n",
      "원문 : delhi university students union elections members belonging bharatiya parishad three posts elected president singh vice president joint secretary national students union india voted secretary \n",
      "실제 요약 : wins posts wins in elections \n",
      "예측 요약 :  delhi civic body to mlas\n",
      "\n",
      "\n",
      "원문 : wikileaks founder julian assange accused spain conducting world first internet war ahead independence referendum region comes spanish government several websites related referendum suspended catalan government apps crackdown comes spain termed referendum illegal \n",
      "실제 요약 : spain world st internet war in assange \n",
      "예측 요약 :  assange assange to\n",
      "\n",
      "\n",
      "원문 : year old boy arrested monday allegedly sexually assaulting year old neighbour death august faridabad accused nabbed police discovered also missing home since day victim disappeared body victim found buried near school \n",
      "실제 요약 : minor boy killed after being sexually assaulted near delhi \n",
      "예측 요약 :  year old girl arrested for in delhi\n",
      "\n",
      "\n",
      "원문 : aide reddy defeated post hindu parishad international president quit organisation international working president years continue work welfare hindus said also announced indefinite fast fulfilling demands hindus \n",
      "실제 요약 : quits after loses president polls \n",
      "예측 요약 :  to bring down as president\n",
      "\n",
      "\n",
      "원문 : trailer sylvester stallone michael jordan starrer ii released film sequel film eighth film series directed steven jr also starring thompson film scheduled release november \n",
      "실제 요약 : trailer of released \n",
      "예측 요약 :  trailer of released\n",
      "\n",
      "\n",
      "원문 : japan airlines pilot arrested airport london found nearly ten times legal alcohol limit shortly take police alerted driver crew bus alcohol pilot airline issued apology promising immediate actions prevent future \n",
      "실제 요약 : japanese pilot found times over alcohol before flight \n",
      "예측 요약 :  jet jet jet catches fire after flight\n",
      "\n",
      "\n",
      "원문 : scientists used ray laser heat water room temperature second dubbed world fastest water instead water knocked water turning charged gas called \n",
      "실제 요약 : water to within of second \n",
      "예측 요약 :  new of\n",
      "\n",
      "\n",
      "원문 : video showing man beating muslim labourer burning alive alleged case love jihad rajasthan district surfaced online alleged crime also released another video wherein claims committed act bid save girl love jihad \n",
      "실제 요약 : muslim man in rajasthan over love \n",
      "예측 요약 :  man beaten to death for her\n",
      "\n",
      "\n",
      "원문 : china shipping agreed acquire hong kong rival overseas international billion takeover result china becoming third largest container shipping line world upon completion deal control shanghai international port group hold rest \n",
      "실제 요약 : china to rival for over crore \n",
      "예측 요약 :  china to sell for billion\n",
      "\n",
      "\n",
      "원문 : supreme court today struck year old law ruling law unconstitutional cannot doubt ground divorce cannot crime chief justice india dipak misra said reading verdict dignity woman added \n",
      "실제 요약 : not crime supreme court year old law \n",
      "예측 요약 :  sc to be in ayodhya\n",
      "\n",
      "\n",
      "원문 : talking addressing sexual harassment bollywood actress kangana ranaut said victim shaming common indian society done openly added read stories shared prominent people people find hard open experiences \n",
      "실제 요약 : victim is in kangana on harassment \n",
      "예측 요약 :  have been on sexual harassment kangana\n",
      "\n",
      "\n",
      "원문 : addressing media thursday pakistani cricketer turned politician imran khan said disappointed indian media portraying like villain narrative imran khan election bring everything wrong india pakistan relations added khan claimed victory elections official results yet announced \n",
      "실제 요약 : indian media me as khan \n",
      "예측 요약 :  india is always always pak\n",
      "\n",
      "\n",
      "원문 : uk launched called biggest effort country makes efforts bring home lakh customers stranded overseas airlines trading monday closure airline uk fifth largest affected nearly lakh passengers total almost employees laid \n",
      "실제 요약 : airline forces uk biggest \n",
      "예측 요약 :  to launch its first electric\n",
      "\n",
      "\n"
     ]
    }
   ],
   "source": [
    "for i in range(50, 100):\n",
    "    print(\"원문 :\", seq2text(encoder_input_test[i]))\n",
    "    print(\"실제 요약 :\", seq2summary(decoder_input_test[i]))\n",
    "    print(\"예측 요약 :\", decode_sequence(encoder_input_test[i].reshape(1, text_max_len)))\n",
    "    print(\"\\n\")"
   ]
  },
  {
   "cell_type": "markdown",
   "id": "fiscal-pantyhose",
   "metadata": {},
   "source": [
    "## Step 5. Summa을 이용해서 추출적 요약해보기"
   ]
  },
  {
   "cell_type": "markdown",
   "id": "crucial-warren",
   "metadata": {},
   "source": [
    "추상적 요약은 추출적 요약과는 달리 문장의 표현력을 다양하게 가져갈 수 있지만, 추출적 요약에 비해서 난이도가 높다. \\ 반대로 말하면 추출적 요약은 추상적 요약에 비해 난이도가 낮고 기존 문장에서 문장을 꺼내오는 것이므로 잘못된 요약이 나올 가능성이 낮다.\n",
    "\n",
    "추출적 요약을 위한 summa함수를 설치후 불러온다"
   ]
  },
  {
   "cell_type": "code",
   "execution_count": 85,
   "id": "inner-credit",
   "metadata": {},
   "outputs": [],
   "source": [
    "from summa.summarizer import summarize"
   ]
  },
  {
   "cell_type": "code",
   "execution_count": 86,
   "id": "parallel-dialogue",
   "metadata": {},
   "outputs": [
    {
     "data": {
      "text/plain": [
       "0        Saurav Kant, an alumnus of upGrad and IIIT-B's...\n",
       "1        Kunal Shah's credit card bill payment platform...\n",
       "2        New Zealand defeated India by 8 wickets in the...\n",
       "3        With Aegon Life iTerm Insurance plan, customer...\n",
       "4        Speaking about the sexual harassment allegatio...\n",
       "                               ...                        \n",
       "98396    A CRPF jawan was on Tuesday axed to death with...\n",
       "98397    'Uff Yeh', the first song from the Sonakshi Si...\n",
       "98398    According to reports, a new version of the 199...\n",
       "98399    A new music video shows rapper Snoop Dogg aimi...\n",
       "98400    Madhesi Morcha, an alliance of seven political...\n",
       "Name: text, Length: 98401, dtype: object"
      ]
     },
     "execution_count": 86,
     "metadata": {},
     "output_type": "execute_result"
    }
   ],
   "source": [
    "data_tmp = pd.read_csv('news_summary_more.csv', encoding='iso-8859-1')\n",
    "data_tmp[\"text\"]"
   ]
  },
  {
   "cell_type": "code",
   "execution_count": 88,
   "id": "desperate-platform",
   "metadata": {},
   "outputs": [
    {
     "name": "stdout",
     "output_type": "stream",
     "text": [
      "Summary:  Former Finance Minister Yashwant Sinha on Tuesday demanded a probe into the alleged diversion of loans worth Ã¢ÂÂ¹31,000 crore by Dewan Housing Finance (DHFL).\n",
      "Summary:  Boeing retained its position as the world's largest planemaker for the seventh straight year, delivering 806 aircraft in 2018.\n",
      "Summary:  \n",
      "Summary:  Further, its OnePlus 6 emerged as the highest selling premium smartphone of 2018 followed by OnePlus 6T.\n",
      "Summary:  Filmmaker Pooja Bhatt, while talking about the presentation of women in her films, said, \"I can never look at a female body, even if it's naked, in a vulgar manner.\" \"Our audience can say...the women in my films are bold or sensual, but never ever vulgar,\" she added.\n",
      "Summary:  Actress Mishti, who has featured in 'Manikarnika: The Queen of Jhansi', has said the film's co-director Kangana Ranaut made false promises to the cast.\n",
      "Summary:  The high-powered committee led by PM Narendra Modi to select the next CBI Director will meet again on February 1, Congress leader Mallikarjun Kharge has said.\n",
      "Summary:  Nevada State Athletic Commission has banned MMA fighters Conor McGregor and Khabib Nurmagomedov for six months and nine months respectively over their roles in the mass brawl that occurred after their fight at UFC 229 last October.\n",
      "Summary:  Pakistan captain Sarfaraz Ahmed, who has been banned for four matches over racist remarks, took an apparent dig at his critics by sharing a video of a child reciting 'log hai na' poem on Twitter.\n",
      "Summary:  Sreesanth further said the bookie tried dragging him into spot-fixing but he didn't fall for it.\n",
      "Summary:  The Finance Ministry on Wednesday said the government will present an Interim Budget on February 1.\n",
      "Summary:  US President Donald Trump on Wednesday called his country's top intelligence chiefs \"naive\" and \"wrong\" on Iran and added that they should perhaps \"go back to school\".\n",
      "Summary:  A senior priest at the Vatican who handled cases of sexual abuse has quit after being accused of sexual abuse by a former nun.\n",
      "Summary:  A 22-year-old writer turned down a job offer, claiming she was bullied to the point of tears during her two-hour interview by a UK company's CEO.\n",
      "Summary:  Noida Police has arrested Sector 20 station in-charge Manoj Pant and three journalists for allegedly extorting money from a call centre owner for removing his name from an FIR.\n",
      "Summary:  Airtel Africa, the holding company for Airtel's operations in 14 African countries, is preparing for an initial public offering.\n",
      "Summary:  Actor Shreyas Talpade said that 'Golmaal' filmmaker Rohit Shetty is still working on the script for the fifth instalment of the 'Golmaal' film franchise.\n",
      "Once he's done with the...scripting, he'll take a call,Ã¢ÂÂ the actor added.\n",
      "Summary:  A 72-year-old man named Terry Sanderson has sued 'Avengers' actress Gwyneth Paltrow for allegedly crashing into him while skiing, and is seeking $3.1 million (over Ã¢ÂÂ¹22 crore) in damages.\n",
      "Summary:  Yami Gautam was felicitated by Border Security Force (BSF) in Amritsar for her performance in 'Uri: The Surgical Strike'.\n",
      "Summary:  Social media giant Facebook has hired privacy critic Nate Cardozo, formerly the top legal counsel for US privacy watchdog EFF, as a privacy policy manager for WhatsApp. Cardozo had called Facebook a \"faceless corporation\" whose business model depends on user's confusion and indifference about privacy, in October 2015.\n",
      "Summary:  \"WeÃ¢ÂÂve decided to go back to (iPhone prices) more commensurate with...local prices...a year ago,\" Cook added.\n",
      "Summary:  \"The majority of fatalities from shark bites is due to blood loss...shock from blood loss,\" a scientist said.\n",
      "Summary:  BJP National Secretary Rahul Sinha on Wednesday asked the party workers in West Bengal to come armed with sticks to PM Narendra Modi's rally in the state on February 2.\n",
      "Summary:  BJP President Amit Shah on Wednesday took a dig at the Opposition parties saying that the 'mahagathbandhan' for the Opposition is 4B - \"Bua-Bhatija-Bhai-Behen\".\n",
      "Summary:  Volkswagen's sales, including its MAN and Scania heavy trucks and buses, rose 0.9% to 10.83 million in 2018, the company had said.\n",
      "Summary:  Ousted Nissan Chairman Carlos Ghosn has said his arrest over alleged financial misconduct was led by \"plot and treason\" by the Japanese carmaker's executives who opposed its deeper integration with Renault and Mitsubishi.\n",
      "Summary:  The government has cut down customs duty on import of parts and components for electric vehicles to 10-15%, down from the previous 15-30%.\n",
      "Summary:  Government officials on Wednesday said that a swine flu outbreak has killed 76 people this year in Rajasthan.\n",
      "Summary:  \"North Korean leaders view nuclear arms as critical to regime survival,\" he added.\n",
      "Summary:  Further, three aircraft have been temporarily grounded to carry out an engine normalisation exercise, it added.\n",
      "Summary:  Retired Justice Srikrishna's enquiry panel has found that ex-CEO Chanda Kochhar violated ICICI Bank's code of conduct.\n",
      "Summary:  Ex-India cricketer Jacob Martin has been shifted to general ward from the ICU after being on a ventilator for nearly a month following a road accident, wherein he severely injured his lungs.\n",
      "Summary:  Tanya accused Perera of meeting country's Sports Minister to secure his place in the team.\n",
      "Summary:  Goa CM and ex-Defence Minister Manohar Parrikar has written a letter to Congress President Rahul Gandhi over his claim that Parrikar told him he has nothing to do with new Rafale deal.\n",
      "Summary:  PM Modi then asked his officers to urgently arrange for an ambulance for the cameraman.\n",
      "Summary:  A couple got divorced minutes after their wedding ceremony got over in Gujarat's Gondal as a disagreement broke out and relatives from both sides started throwing dishes at each other during lunch.\n",
      "Summary:  Gujarat Education Minister Bhupendrasinh Chudasma has written a congratulatory message to a yoga ashram run by rape-convict Asaram's organisation for observing February 14 as \"Matru-Pitru Pujan Divas\" (Mother-Father worship day).\n",
      "Summary:  Venezuelan President NicolÃÂ¡s Maduro has claimed that his American counterpart Donald Trump ordered the Colombian government and the Colombian mafia to kill him.\n",
      "Summary:  The richest among them is Hong Kong's Li Ka Shing with a net worth of $30.5 billion.\n",
      "Summary:  Tamil Nadu food safety officials on Wednesday raided and seized 1,000 kgs of banned plastic items from Hotel Saravana Bhavan in Chennai's Vadapalani.\n",
      "Summary:  Actress Shamita Shetty was verbally abused and her driver was slapped in an incident of road rage in Mumbai on Tuesday, as per reports.\n",
      "Summary:  Actress Vaani Kapoor said that trolling has become a norm on social media, adding, \"There's no one who hasn't got trolled on social media.\" \"Everybody is out there to pull the other person down but it'll only bother [you] if you let it bother you,\" Vaani added.\n",
      "Summary:  Actress Sushmita Sen took to Instagram to share a joke on the subject of marriage.\n",
      "\"This is an insult to [the] beauty of marriage,\" an Instagram user commented on her post.\n",
      "Summary:  Television actor Karanvir Bohra, who flew to Russia on Tuesday to attend a film festival, has been detained in Moscow due to passport damage.\n",
      "Summary:  While speaking about winning awards for his films, Shah Rukh Khan said, \"If I don't get an award, that award is at a loss.\" \"Sometimes, the prestige of an award increases when I receive it,\" the actor jokingly added.\n",
      "Summary:  Actress Patralekhaa will make her debut in the Kannada film industry with the action-comedy film 'Where is my Kannadaka?' \"I can definitely say that itÃ¢ÂÂs a kind of role that I havenÃ¢ÂÂt portrayed on screen so far and that makes it special for me,\" the actress said in a statement.\n",
      "Summary:  Gmail on Tuesday faced a global outage, which also affected India, wherein certain users complained they faced a '404 error' message while trying to sign-in to their accounts.\n",
      "The error message read: \"The requested URL was not found on this server.\n",
      "Summary:  Shiv Sena chief Uddhav Thackeray has asked the BJP to decide about the alliance with the Sena within 15 days and said the BJP should make a concrete proposal on the alliance.\n",
      "Summary:  He said the Opposition is thinking about leading the country but does not have a leader.\n",
      "Summary:  He added decisions like demonetisation and RERA have put a check on black money that used to be \"parked in the real estate sector\".\n"
     ]
    }
   ],
   "source": [
    "for i in range(50, 100):\n",
    "    print(\"Summary: \", summarize(data_tmp[\"text\"][i], ratio=0.5))"
   ]
  },
  {
   "cell_type": "code",
   "execution_count": null,
   "id": "employed-absolute",
   "metadata": {},
   "outputs": [],
   "source": []
  }
 ],
 "metadata": {
  "kernelspec": {
   "display_name": "Python 3",
   "language": "python",
   "name": "python3"
  },
  "language_info": {
   "codemirror_mode": {
    "name": "ipython",
    "version": 3
   },
   "file_extension": ".py",
   "mimetype": "text/x-python",
   "name": "python",
   "nbconvert_exporter": "python",
   "pygments_lexer": "ipython3",
   "version": "3.7.9"
  }
 },
 "nbformat": 4,
 "nbformat_minor": 5
}
