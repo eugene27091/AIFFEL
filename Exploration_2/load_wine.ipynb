{
 "cells": [
  {
   "cell_type": "markdown",
   "id": "southern-roots",
   "metadata": {},
   "source": [
    "## (1) 필요한 모듈 import하기"
   ]
  },
  {
   "cell_type": "code",
   "execution_count": 6,
   "id": "sexual-cornwall",
   "metadata": {},
   "outputs": [],
   "source": [
    "# 분리\n",
    "from sklearn.model_selection import train_test_split\n",
    "\n",
    "# 모델링\n",
    "from sklearn.tree import DecisionTreeClassifier\n",
    "from sklearn.ensemble import RandomForestClassifier\n",
    "from sklearn.svm import SVC\n",
    "from sklearn.linear_model import SGDClassifier\n",
    "from sklearn.linear_model import LogisticRegression\n",
    "\n",
    "# report\n",
    "from sklearn.metrics import classification_report"
   ]
  },
  {
   "cell_type": "markdown",
   "id": "legitimate-jurisdiction",
   "metadata": {},
   "source": [
    "## (2) 데이터 준비"
   ]
  },
  {
   "cell_type": "code",
   "execution_count": 7,
   "id": "constitutional-candidate",
   "metadata": {},
   "outputs": [],
   "source": [
    "# 데이터셋 불러오기\n",
    "from sklearn.datasets import load_wine"
   ]
  },
  {
   "cell_type": "markdown",
   "id": "collectible-capability",
   "metadata": {},
   "source": [
    "## (3) 데이터 이해하기"
   ]
  },
  {
   "cell_type": "code",
   "execution_count": 8,
   "id": "included-receiver",
   "metadata": {},
   "outputs": [],
   "source": [
    "wine = load_wine()"
   ]
  },
  {
   "cell_type": "code",
   "execution_count": 9,
   "id": "aware-walter",
   "metadata": {},
   "outputs": [
    {
     "data": {
      "text/plain": [
       "array(['class_0', 'class_1', 'class_2'], dtype='<U7')"
      ]
     },
     "execution_count": 9,
     "metadata": {},
     "output_type": "execute_result"
    }
   ],
   "source": [
    "wine.target_names"
   ]
  },
  {
   "cell_type": "code",
   "execution_count": 10,
   "id": "capital-processor",
   "metadata": {},
   "outputs": [],
   "source": [
    "data = wine.data\n",
    "target = wine.target"
   ]
  },
  {
   "cell_type": "markdown",
   "id": "empirical-exhaust",
   "metadata": {},
   "source": [
    "## (4) train, test 데이터 분리"
   ]
  },
  {
   "cell_type": "code",
   "execution_count": 11,
   "id": "desirable-interest",
   "metadata": {},
   "outputs": [
    {
     "data": {
      "text/plain": [
       "array([[1.146e+01, 3.740e+00, 1.820e+00, ..., 7.500e-01, 2.810e+00,\n",
       "        5.620e+02],\n",
       "       [1.368e+01, 1.830e+00, 2.360e+00, ..., 1.230e+00, 2.870e+00,\n",
       "        9.900e+02],\n",
       "       [1.369e+01, 3.260e+00, 2.540e+00, ..., 9.600e-01, 1.820e+00,\n",
       "        6.800e+02],\n",
       "       ...,\n",
       "       [1.305e+01, 1.650e+00, 2.550e+00, ..., 1.120e+00, 2.510e+00,\n",
       "        1.105e+03],\n",
       "       [1.184e+01, 8.900e-01, 2.580e+00, ..., 7.900e-01, 3.080e+00,\n",
       "        5.200e+02],\n",
       "       [1.247e+01, 1.520e+00, 2.200e+00, ..., 1.160e+00, 2.630e+00,\n",
       "        9.370e+02]])"
      ]
     },
     "execution_count": 11,
     "metadata": {},
     "output_type": "execute_result"
    }
   ],
   "source": [
    "X_train, X_test, y_train, y_test = train_test_split(data, target, test_size=0.2, random_state=77)\n",
    "X_train"
   ]
  },
  {
   "cell_type": "markdown",
   "id": "apart-efficiency",
   "metadata": {},
   "source": [
    "## (5) 다양한 모델로 학습시켜보기"
   ]
  },
  {
   "cell_type": "code",
   "execution_count": 12,
   "id": "infectious-divide",
   "metadata": {},
   "outputs": [
    {
     "data": {
      "text/plain": [
       "DecisionTreeClassifier()"
      ]
     },
     "execution_count": 12,
     "metadata": {},
     "output_type": "execute_result"
    }
   ],
   "source": [
    "# DecisionTree\n",
    "model_tree = DecisionTreeClassifier()\n",
    "model_tree.fit(X_train, y_train)"
   ]
  },
  {
   "cell_type": "code",
   "execution_count": 13,
   "id": "stock-tiffany",
   "metadata": {},
   "outputs": [
    {
     "data": {
      "text/plain": [
       "RandomForestClassifier()"
      ]
     },
     "execution_count": 13,
     "metadata": {},
     "output_type": "execute_result"
    }
   ],
   "source": [
    "# RandomForest\n",
    "model_random_forest = RandomForestClassifier()\n",
    "model_random_forest.fit(X_train, y_train)"
   ]
  },
  {
   "cell_type": "code",
   "execution_count": 14,
   "id": "metric-folks",
   "metadata": {},
   "outputs": [
    {
     "data": {
      "text/plain": [
       "SVC()"
      ]
     },
     "execution_count": 14,
     "metadata": {},
     "output_type": "execute_result"
    }
   ],
   "source": [
    "# SVM\n",
    "model_svc = SVC()\n",
    "model_svc.fit(X_train, y_train)"
   ]
  },
  {
   "cell_type": "code",
   "execution_count": 15,
   "id": "certified-border",
   "metadata": {},
   "outputs": [
    {
     "data": {
      "text/plain": [
       "SGDClassifier()"
      ]
     },
     "execution_count": 15,
     "metadata": {},
     "output_type": "execute_result"
    }
   ],
   "source": [
    "# SGD\n",
    "model_sgd = SGDClassifier()\n",
    "model_sgd.fit(X_train, y_train)"
   ]
  },
  {
   "cell_type": "code",
   "execution_count": 16,
   "id": "latin-burlington",
   "metadata": {},
   "outputs": [
    {
     "name": "stderr",
     "output_type": "stream",
     "text": [
      "/opt/conda/lib/python3.7/site-packages/sklearn/linear_model/_logistic.py:762: ConvergenceWarning: lbfgs failed to converge (status=1):\n",
      "STOP: TOTAL NO. of ITERATIONS REACHED LIMIT.\n",
      "\n",
      "Increase the number of iterations (max_iter) or scale the data as shown in:\n",
      "    https://scikit-learn.org/stable/modules/preprocessing.html\n",
      "Please also refer to the documentation for alternative solver options:\n",
      "    https://scikit-learn.org/stable/modules/linear_model.html#logistic-regression\n",
      "  extra_warning_msg=_LOGISTIC_SOLVER_CONVERGENCE_MSG)\n"
     ]
    },
    {
     "data": {
      "text/plain": [
       "LogisticRegression()"
      ]
     },
     "execution_count": 16,
     "metadata": {},
     "output_type": "execute_result"
    }
   ],
   "source": [
    "# Logistic Regression\n",
    "model_LR = LogisticRegression()\n",
    "model_LR.fit(X_train, y_train)"
   ]
  },
  {
   "cell_type": "markdown",
   "id": "affecting-tracy",
   "metadata": {},
   "source": [
    "## (6) 모델을 평가해 보기"
   ]
  },
  {
   "cell_type": "code",
   "execution_count": 17,
   "id": "alive-wednesday",
   "metadata": {},
   "outputs": [
    {
     "name": "stdout",
     "output_type": "stream",
     "text": [
      "              precision    recall  f1-score   support\n",
      "\n",
      "           0       0.91      0.91      0.91        11\n",
      "           1       0.93      0.87      0.90        15\n",
      "           2       0.91      1.00      0.95        10\n",
      "\n",
      "    accuracy                           0.92        36\n",
      "   macro avg       0.92      0.93      0.92        36\n",
      "weighted avg       0.92      0.92      0.92        36\n",
      "\n"
     ]
    }
   ],
   "source": [
    "# Decision Tree\n",
    "y_pred = model_tree.predict(X_test)\n",
    "print(classification_report(y_pred, y_test))"
   ]
  },
  {
   "cell_type": "code",
   "execution_count": 18,
   "id": "accomplished-wildlife",
   "metadata": {},
   "outputs": [
    {
     "name": "stdout",
     "output_type": "stream",
     "text": [
      "              precision    recall  f1-score   support\n",
      "\n",
      "           0       0.91      1.00      0.95        10\n",
      "           1       1.00      0.93      0.97        15\n",
      "           2       1.00      1.00      1.00        11\n",
      "\n",
      "    accuracy                           0.97        36\n",
      "   macro avg       0.97      0.98      0.97        36\n",
      "weighted avg       0.97      0.97      0.97        36\n",
      "\n"
     ]
    }
   ],
   "source": [
    "# Random Forest\n",
    "y_pred = model_random_forest.predict(X_test)\n",
    "print(classification_report(y_pred, y_test))"
   ]
  },
  {
   "cell_type": "code",
   "execution_count": 19,
   "id": "vulnerable-morning",
   "metadata": {},
   "outputs": [
    {
     "name": "stdout",
     "output_type": "stream",
     "text": [
      "              precision    recall  f1-score   support\n",
      "\n",
      "           0       0.82      0.90      0.86        10\n",
      "           1       0.79      0.58      0.67        19\n",
      "           2       0.27      0.43      0.33         7\n",
      "\n",
      "    accuracy                           0.64        36\n",
      "   macro avg       0.63      0.64      0.62        36\n",
      "weighted avg       0.69      0.64      0.65        36\n",
      "\n"
     ]
    }
   ],
   "source": [
    "# SVM\n",
    "y_pred = model_svc.predict(X_test)\n",
    "print(classification_report(y_pred, y_test))"
   ]
  },
  {
   "cell_type": "code",
   "execution_count": 20,
   "id": "written-activity",
   "metadata": {},
   "outputs": [
    {
     "name": "stdout",
     "output_type": "stream",
     "text": [
      "              precision    recall  f1-score   support\n",
      "\n",
      "           0       0.82      0.90      0.86        10\n",
      "           1       0.86      0.57      0.69        21\n",
      "           2       0.36      0.80      0.50         5\n",
      "\n",
      "    accuracy                           0.69        36\n",
      "   macro avg       0.68      0.76      0.68        36\n",
      "weighted avg       0.78      0.69      0.71        36\n",
      "\n"
     ]
    }
   ],
   "source": [
    "# SGD\n",
    "y_pred = model_sgd.predict(X_test)\n",
    "print(classification_report(y_pred, y_test))"
   ]
  },
  {
   "cell_type": "code",
   "execution_count": 21,
   "id": "ordered-teacher",
   "metadata": {},
   "outputs": [
    {
     "name": "stdout",
     "output_type": "stream",
     "text": [
      "              precision    recall  f1-score   support\n",
      "\n",
      "           0       1.00      0.92      0.96        12\n",
      "           1       0.93      0.87      0.90        15\n",
      "           2       0.82      1.00      0.90         9\n",
      "\n",
      "    accuracy                           0.92        36\n",
      "   macro avg       0.92      0.93      0.92        36\n",
      "weighted avg       0.92      0.92      0.92        36\n",
      "\n"
     ]
    }
   ],
   "source": [
    "# Logistic Regression\n",
    "y_pred = model_LR.predict(X_test)\n",
    "print(classification_report(y_pred, y_test))"
   ]
  },
  {
   "cell_type": "markdown",
   "id": "moving-protocol",
   "metadata": {},
   "source": [
    "Q 모델의 성능을 평가하는 지표로는 무엇이 좋을까요? \n",
    "sklearn.metrics 에서 제공하는 평가지표 중 적절한 것을 선택해 보세요. \n",
    "선택하신 이유도 설명해 주세요."
   ]
  },
  {
   "cell_type": "markdown",
   "id": "hidden-barbados",
   "metadata": {},
   "source": [
    "A Decision Tree나 Logistic Regression를 평가 지표로 사용하는 것이 가장 적절할 것 같다.\n",
    "오버피팅이 적으며, 정확도가 높기 때문이다."
   ]
  },
  {
   "cell_type": "code",
   "execution_count": null,
   "id": "statistical-design",
   "metadata": {},
   "outputs": [],
   "source": []
  }
 ],
 "metadata": {
  "kernelspec": {
   "display_name": "Python 3",
   "language": "python",
   "name": "python3"
  },
  "language_info": {
   "codemirror_mode": {
    "name": "ipython",
    "version": 3
   },
   "file_extension": ".py",
   "mimetype": "text/x-python",
   "name": "python",
   "nbconvert_exporter": "python",
   "pygments_lexer": "ipython3",
   "version": "3.7.9"
  }
 },
 "nbformat": 4,
 "nbformat_minor": 5
}
