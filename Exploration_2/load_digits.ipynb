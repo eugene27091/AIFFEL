{
 "cells": [
  {
   "cell_type": "markdown",
   "id": "impressive-steering",
   "metadata": {},
   "source": [
    "## (1) 필요한 모듈 import하기"
   ]
  },
  {
   "cell_type": "code",
   "execution_count": 2,
   "id": "legendary-enzyme",
   "metadata": {},
   "outputs": [],
   "source": [
    "# 분리\n",
    "from sklearn.model_selection import train_test_split\n",
    "\n",
    "# 모델링\n",
    "from sklearn.tree import DecisionTreeClassifier\n",
    "from sklearn.ensemble import RandomForestClassifier\n",
    "from sklearn.svm import SVC\n",
    "from sklearn.linear_model import SGDClassifier\n",
    "from sklearn.linear_model import LogisticRegression\n",
    "\n",
    "# 리포트\n",
    "from sklearn.metrics import classification_report"
   ]
  },
  {
   "cell_type": "markdown",
   "id": "breathing-economics",
   "metadata": {},
   "source": [
    "## (2) 데이터 준비"
   ]
  },
  {
   "cell_type": "code",
   "execution_count": 3,
   "id": "corporate-sunrise",
   "metadata": {},
   "outputs": [],
   "source": [
    "# 데이터셋 불러오기\n",
    "from sklearn.datasets import load_digits"
   ]
  },
  {
   "cell_type": "markdown",
   "id": "minimal-commissioner",
   "metadata": {},
   "source": [
    "## (3) 데이터 이해하기"
   ]
  },
  {
   "cell_type": "code",
   "execution_count": 6,
   "id": "affiliated-reach",
   "metadata": {},
   "outputs": [],
   "source": [
    "digits = load_digits()"
   ]
  },
  {
   "cell_type": "code",
   "execution_count": 8,
   "id": "fitted-barrel",
   "metadata": {},
   "outputs": [
    {
     "data": {
      "text/plain": [
       "array([0, 1, 2, 3, 4, 5, 6, 7, 8, 9])"
      ]
     },
     "execution_count": 8,
     "metadata": {},
     "output_type": "execute_result"
    }
   ],
   "source": [
    "digits.target_names"
   ]
  },
  {
   "cell_type": "code",
   "execution_count": 9,
   "id": "understood-sheffield",
   "metadata": {},
   "outputs": [],
   "source": [
    "data = digits.data\n",
    "target = digits.target"
   ]
  },
  {
   "cell_type": "markdown",
   "id": "powerful-security",
   "metadata": {},
   "source": [
    "## (4) train, test 데이터 분리"
   ]
  },
  {
   "cell_type": "code",
   "execution_count": 10,
   "id": "verbal-mexico",
   "metadata": {},
   "outputs": [
    {
     "data": {
      "text/plain": [
       "array([[ 0.,  1., 12., ..., 14.,  1.,  0.],\n",
       "       [ 0.,  0.,  9., ..., 16.,  2.,  0.],\n",
       "       [ 0.,  0.,  3., ...,  0.,  0.,  0.],\n",
       "       ...,\n",
       "       [ 0.,  0.,  4., ..., 10.,  1.,  0.],\n",
       "       [ 0.,  0.,  0., ..., 15.,  5.,  0.],\n",
       "       [ 0.,  0.,  0., ...,  0.,  0.,  0.]])"
      ]
     },
     "execution_count": 10,
     "metadata": {},
     "output_type": "execute_result"
    }
   ],
   "source": [
    "X_train, X_test, y_train, y_test = train_test_split(data, target, test_size=0.2, random_state=77)\n",
    "X_train"
   ]
  },
  {
   "cell_type": "markdown",
   "id": "looking-litigation",
   "metadata": {},
   "source": [
    "## (5) 다양한 모델로 학습시켜보기"
   ]
  },
  {
   "cell_type": "code",
   "execution_count": 11,
   "id": "relevant-acrobat",
   "metadata": {},
   "outputs": [
    {
     "data": {
      "text/plain": [
       "DecisionTreeClassifier()"
      ]
     },
     "execution_count": 11,
     "metadata": {},
     "output_type": "execute_result"
    }
   ],
   "source": [
    "# DecisionTree\n",
    "model_tree = DecisionTreeClassifier()\n",
    "model_tree.fit(X_train, y_train)"
   ]
  },
  {
   "cell_type": "code",
   "execution_count": 12,
   "id": "sticky-showcase",
   "metadata": {},
   "outputs": [
    {
     "data": {
      "text/plain": [
       "RandomForestClassifier()"
      ]
     },
     "execution_count": 12,
     "metadata": {},
     "output_type": "execute_result"
    }
   ],
   "source": [
    "# RandomForest\n",
    "model_random_forest = RandomForestClassifier()\n",
    "model_random_forest.fit(X_train, y_train)"
   ]
  },
  {
   "cell_type": "code",
   "execution_count": 13,
   "id": "skilled-expert",
   "metadata": {},
   "outputs": [
    {
     "data": {
      "text/plain": [
       "SVC()"
      ]
     },
     "execution_count": 13,
     "metadata": {},
     "output_type": "execute_result"
    }
   ],
   "source": [
    "# SVM\n",
    "model_svc = SVC()\n",
    "model_svc.fit(X_train, y_train)"
   ]
  },
  {
   "cell_type": "code",
   "execution_count": 14,
   "id": "understanding-clear",
   "metadata": {},
   "outputs": [
    {
     "data": {
      "text/plain": [
       "SGDClassifier()"
      ]
     },
     "execution_count": 14,
     "metadata": {},
     "output_type": "execute_result"
    }
   ],
   "source": [
    "# SGD\n",
    "model_sgd = SGDClassifier()\n",
    "model_sgd.fit(X_train, y_train)"
   ]
  },
  {
   "cell_type": "code",
   "execution_count": 15,
   "id": "overhead-designation",
   "metadata": {},
   "outputs": [
    {
     "name": "stderr",
     "output_type": "stream",
     "text": [
      "/opt/conda/lib/python3.7/site-packages/sklearn/linear_model/_logistic.py:762: ConvergenceWarning: lbfgs failed to converge (status=1):\n",
      "STOP: TOTAL NO. of ITERATIONS REACHED LIMIT.\n",
      "\n",
      "Increase the number of iterations (max_iter) or scale the data as shown in:\n",
      "    https://scikit-learn.org/stable/modules/preprocessing.html\n",
      "Please also refer to the documentation for alternative solver options:\n",
      "    https://scikit-learn.org/stable/modules/linear_model.html#logistic-regression\n",
      "  extra_warning_msg=_LOGISTIC_SOLVER_CONVERGENCE_MSG)\n"
     ]
    },
    {
     "data": {
      "text/plain": [
       "LogisticRegression()"
      ]
     },
     "execution_count": 15,
     "metadata": {},
     "output_type": "execute_result"
    }
   ],
   "source": [
    "# Logistic Regression\n",
    "model_LR = LogisticRegression()\n",
    "model_LR.fit(X_train, y_train)"
   ]
  },
  {
   "cell_type": "markdown",
   "id": "minus-sword",
   "metadata": {},
   "source": [
    "## (6) 모델을 평가해 보기"
   ]
  },
  {
   "cell_type": "code",
   "execution_count": 16,
   "id": "brown-disco",
   "metadata": {},
   "outputs": [
    {
     "name": "stdout",
     "output_type": "stream",
     "text": [
      "              precision    recall  f1-score   support\n",
      "\n",
      "           0       0.97      0.88      0.92        34\n",
      "           1       0.88      0.86      0.87        49\n",
      "           2       0.88      0.91      0.90        33\n",
      "           3       0.91      0.91      0.91        35\n",
      "           4       0.79      0.83      0.81        41\n",
      "           5       0.94      0.86      0.90        35\n",
      "           6       0.89      0.97      0.93        35\n",
      "           7       0.89      0.83      0.86        41\n",
      "           8       0.74      0.83      0.78        24\n",
      "           9       0.76      0.79      0.78        33\n",
      "\n",
      "    accuracy                           0.87       360\n",
      "   macro avg       0.87      0.87      0.87       360\n",
      "weighted avg       0.87      0.87      0.87       360\n",
      "\n"
     ]
    }
   ],
   "source": [
    "# Decision Tree\n",
    "y_pred = model_tree.predict(X_test)\n",
    "print(classification_report(y_pred, y_test))"
   ]
  },
  {
   "cell_type": "code",
   "execution_count": 17,
   "id": "extreme-volleyball",
   "metadata": {},
   "outputs": [
    {
     "name": "stdout",
     "output_type": "stream",
     "text": [
      "              precision    recall  f1-score   support\n",
      "\n",
      "           0       0.97      0.97      0.97        31\n",
      "           1       1.00      1.00      1.00        48\n",
      "           2       1.00      1.00      1.00        34\n",
      "           3       0.97      0.92      0.94        37\n",
      "           4       0.98      0.98      0.98        43\n",
      "           5       0.97      1.00      0.98        31\n",
      "           6       0.97      1.00      0.99        37\n",
      "           7       1.00      0.95      0.97        40\n",
      "           8       0.93      1.00      0.96        25\n",
      "           9       0.94      0.94      0.94        34\n",
      "\n",
      "    accuracy                           0.97       360\n",
      "   macro avg       0.97      0.98      0.97       360\n",
      "weighted avg       0.98      0.97      0.97       360\n",
      "\n"
     ]
    }
   ],
   "source": [
    "# Random Forest\n",
    "y_pred = model_random_forest.predict(X_test)\n",
    "print(classification_report(y_pred, y_test))"
   ]
  },
  {
   "cell_type": "code",
   "execution_count": 18,
   "id": "classified-excitement",
   "metadata": {},
   "outputs": [
    {
     "name": "stdout",
     "output_type": "stream",
     "text": [
      "              precision    recall  f1-score   support\n",
      "\n",
      "           0       1.00      1.00      1.00        31\n",
      "           1       1.00      1.00      1.00        48\n",
      "           2       1.00      1.00      1.00        34\n",
      "           3       1.00      1.00      1.00        35\n",
      "           4       0.98      1.00      0.99        42\n",
      "           5       1.00      1.00      1.00        32\n",
      "           6       1.00      1.00      1.00        38\n",
      "           7       1.00      1.00      1.00        38\n",
      "           8       0.96      0.96      0.96        27\n",
      "           9       1.00      0.97      0.99        35\n",
      "\n",
      "    accuracy                           0.99       360\n",
      "   macro avg       0.99      0.99      0.99       360\n",
      "weighted avg       0.99      0.99      0.99       360\n",
      "\n"
     ]
    }
   ],
   "source": [
    "# SVM\n",
    "y_pred = model_svc.predict(X_test)\n",
    "print(classification_report(y_pred, y_test))"
   ]
  },
  {
   "cell_type": "code",
   "execution_count": 19,
   "id": "southwest-tsunami",
   "metadata": {},
   "outputs": [
    {
     "name": "stdout",
     "output_type": "stream",
     "text": [
      "              precision    recall  f1-score   support\n",
      "\n",
      "           0       0.97      1.00      0.98        30\n",
      "           1       0.98      0.84      0.90        56\n",
      "           2       0.97      1.00      0.99        33\n",
      "           3       0.91      1.00      0.96        32\n",
      "           4       0.93      0.95      0.94        42\n",
      "           5       0.88      0.97      0.92        29\n",
      "           6       0.97      1.00      0.99        37\n",
      "           7       0.97      0.93      0.95        40\n",
      "           8       0.67      0.90      0.77        20\n",
      "           9       1.00      0.83      0.91        41\n",
      "\n",
      "    accuracy                           0.93       360\n",
      "   macro avg       0.93      0.94      0.93       360\n",
      "weighted avg       0.94      0.93      0.93       360\n",
      "\n"
     ]
    }
   ],
   "source": [
    "# SGD\n",
    "y_pred = model_sgd.predict(X_test)\n",
    "print(classification_report(y_pred, y_test))"
   ]
  },
  {
   "cell_type": "code",
   "execution_count": 20,
   "id": "restricted-committee",
   "metadata": {},
   "outputs": [
    {
     "name": "stdout",
     "output_type": "stream",
     "text": [
      "              precision    recall  f1-score   support\n",
      "\n",
      "           0       0.97      1.00      0.98        30\n",
      "           1       0.92      0.92      0.92        48\n",
      "           2       0.94      1.00      0.97        32\n",
      "           3       0.97      0.97      0.97        35\n",
      "           4       0.93      0.95      0.94        42\n",
      "           5       0.97      0.97      0.97        32\n",
      "           6       0.97      1.00      0.99        37\n",
      "           7       0.97      0.95      0.96        39\n",
      "           8       1.00      0.90      0.95        30\n",
      "           9       1.00      0.97      0.99        35\n",
      "\n",
      "    accuracy                           0.96       360\n",
      "   macro avg       0.96      0.96      0.96       360\n",
      "weighted avg       0.96      0.96      0.96       360\n",
      "\n"
     ]
    }
   ],
   "source": [
    "# Logistic Regression\n",
    "y_pred = model_LR.predict(X_test)\n",
    "print(classification_report(y_pred, y_test))"
   ]
  },
  {
   "cell_type": "markdown",
   "id": "classical-evening",
   "metadata": {},
   "source": [
    "Q 모델의 성능을 평가하는 지표로는 무엇이 좋을까요? \n",
    "sklearn.metrics 에서 제공하는 평가지표 중 적절한 것을 선택해 보세요. \n",
    "선택하신 이유도 설명해 주세요."
   ]
  },
  {
   "cell_type": "markdown",
   "id": "hazardous-times",
   "metadata": {},
   "source": [
    "A DecisionTree 를 평가 지표로 사용하는 것이 가장 적절할 것 같다.\n",
    "다른 모델들의 평가 지표들을 보면 스코어가 1.00이 나왔다.\n",
    "오버피팅된 것으로 생각하기 때문이다.\n",
    "학습 데이타는 실제 데이타의 부분 집합이므로 학습데이타에 대해서는 오차가 감소하지만 \n",
    "실제 데이타에 대해서는 오차가 증가하게 될 것이므로 DecisionTree를 선택했다."
   ]
  },
  {
   "cell_type": "code",
   "execution_count": null,
   "id": "civil-christmas",
   "metadata": {},
   "outputs": [],
   "source": []
  }
 ],
 "metadata": {
  "kernelspec": {
   "display_name": "Python 3",
   "language": "python",
   "name": "python3"
  },
  "language_info": {
   "codemirror_mode": {
    "name": "ipython",
    "version": 3
   },
   "file_extension": ".py",
   "mimetype": "text/x-python",
   "name": "python",
   "nbconvert_exporter": "python",
   "pygments_lexer": "ipython3",
   "version": "3.7.9"
  }
 },
 "nbformat": 4,
 "nbformat_minor": 5
}
